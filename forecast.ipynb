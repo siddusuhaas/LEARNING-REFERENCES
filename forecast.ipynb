{
  "nbformat": 4,
  "nbformat_minor": 0,
  "metadata": {
    "colab": {
      "name": "forecast.ipynb",
      "provenance": [],
      "authorship_tag": "ABX9TyO4YM7iAZvmCcPqnLl28gb1",
      "include_colab_link": true
    },
    "kernelspec": {
      "name": "python3",
      "display_name": "Python 3"
    },
    "language_info": {
      "name": "python"
    }
  },
  "cells": [
    {
      "cell_type": "markdown",
      "metadata": {
        "id": "view-in-github",
        "colab_type": "text"
      },
      "source": [
        "<a href=\"https://colab.research.google.com/github/siddusuhaas/LEARNING-REFERENCES/blob/master/forecast.ipynb\" target=\"_parent\"><img src=\"https://colab.research.google.com/assets/colab-badge.svg\" alt=\"Open In Colab\"/></a>"
      ]
    },
    {
      "cell_type": "code",
      "execution_count": 22,
      "metadata": {
        "colab": {
          "base_uri": "https://localhost:8080/"
        },
        "id": "MRFDAxX3dcgy",
        "outputId": "01952dc5-a19d-40ad-fe17-efa750a9ea2d"
      },
      "outputs": [
        {
          "output_type": "stream",
          "name": "stdout",
          "text": [
            "hello\n"
          ]
        }
      ],
      "source": [
        "print(\"hello\")"
      ]
    },
    {
      "cell_type": "code",
      "source": [
        "pip install fbprophet"
      ],
      "metadata": {
        "colab": {
          "base_uri": "https://localhost:8080/"
        },
        "id": "CkPEGlV3dgOc",
        "outputId": "d4a6ddd2-436f-4b6f-f4f4-5ba4c3646f85"
      },
      "execution_count": 23,
      "outputs": [
        {
          "output_type": "stream",
          "name": "stdout",
          "text": [
            "Looking in indexes: https://pypi.org/simple, https://us-python.pkg.dev/colab-wheels/public/simple/\n",
            "Requirement already satisfied: fbprophet in /usr/local/lib/python3.7/dist-packages (0.7.1)\n",
            "Requirement already satisfied: Cython>=0.22 in /usr/local/lib/python3.7/dist-packages (from fbprophet) (0.29.30)\n",
            "Requirement already satisfied: cmdstanpy==0.9.5 in /usr/local/lib/python3.7/dist-packages (from fbprophet) (0.9.5)\n",
            "Requirement already satisfied: pystan>=2.14 in /usr/local/lib/python3.7/dist-packages (from fbprophet) (2.19.1.1)\n",
            "Requirement already satisfied: numpy>=1.15.4 in /usr/local/lib/python3.7/dist-packages (from fbprophet) (1.21.6)\n",
            "Requirement already satisfied: pandas>=1.0.4 in /usr/local/lib/python3.7/dist-packages (from fbprophet) (1.3.5)\n",
            "Requirement already satisfied: matplotlib>=2.0.0 in /usr/local/lib/python3.7/dist-packages (from fbprophet) (3.2.2)\n",
            "Requirement already satisfied: LunarCalendar>=0.0.9 in /usr/local/lib/python3.7/dist-packages (from fbprophet) (0.0.9)\n",
            "Requirement already satisfied: convertdate>=2.1.2 in /usr/local/lib/python3.7/dist-packages (from fbprophet) (2.4.0)\n",
            "Requirement already satisfied: holidays>=0.10.2 in /usr/local/lib/python3.7/dist-packages (from fbprophet) (0.10.5.2)\n",
            "Requirement already satisfied: setuptools-git>=1.2 in /usr/local/lib/python3.7/dist-packages (from fbprophet) (1.2)\n",
            "Requirement already satisfied: python-dateutil>=2.8.0 in /usr/local/lib/python3.7/dist-packages (from fbprophet) (2.8.2)\n",
            "Requirement already satisfied: tqdm>=4.36.1 in /usr/local/lib/python3.7/dist-packages (from fbprophet) (4.64.0)\n",
            "Requirement already satisfied: pymeeus<=1,>=0.3.13 in /usr/local/lib/python3.7/dist-packages (from convertdate>=2.1.2->fbprophet) (0.5.11)\n",
            "Requirement already satisfied: korean-lunar-calendar in /usr/local/lib/python3.7/dist-packages (from holidays>=0.10.2->fbprophet) (0.2.1)\n",
            "Requirement already satisfied: six in /usr/local/lib/python3.7/dist-packages (from holidays>=0.10.2->fbprophet) (1.15.0)\n",
            "Requirement already satisfied: hijri-converter in /usr/local/lib/python3.7/dist-packages (from holidays>=0.10.2->fbprophet) (2.2.4)\n",
            "Requirement already satisfied: ephem>=3.7.5.3 in /usr/local/lib/python3.7/dist-packages (from LunarCalendar>=0.0.9->fbprophet) (4.1.3)\n",
            "Requirement already satisfied: pytz in /usr/local/lib/python3.7/dist-packages (from LunarCalendar>=0.0.9->fbprophet) (2022.1)\n",
            "Requirement already satisfied: pyparsing!=2.0.4,!=2.1.2,!=2.1.6,>=2.0.1 in /usr/local/lib/python3.7/dist-packages (from matplotlib>=2.0.0->fbprophet) (3.0.9)\n",
            "Requirement already satisfied: kiwisolver>=1.0.1 in /usr/local/lib/python3.7/dist-packages (from matplotlib>=2.0.0->fbprophet) (1.4.2)\n",
            "Requirement already satisfied: cycler>=0.10 in /usr/local/lib/python3.7/dist-packages (from matplotlib>=2.0.0->fbprophet) (0.11.0)\n",
            "Requirement already satisfied: typing-extensions in /usr/local/lib/python3.7/dist-packages (from kiwisolver>=1.0.1->matplotlib>=2.0.0->fbprophet) (4.2.0)\n"
          ]
        }
      ]
    },
    {
      "cell_type": "code",
      "source": [
        "#webscraping from html to python\n",
        "import pandas as pd\n",
        "df1=pd.read_html(\"/DailyWiseMarketArrivals.html\")\n",
        "print(df1)"
      ],
      "metadata": {
        "colab": {
          "base_uri": "https://localhost:8080/"
        },
        "id": "T19Dvea0d3h4",
        "outputId": "7440770a-bd21-4d04-a1b3-ac93024df007"
      },
      "execution_count": 24,
      "outputs": [
        {
          "output_type": "stream",
          "name": "stdout",
          "text": [
            "[                                      0\n",
            "0  DATE WISE MARKET ARRIVALS AND PRICES,           0                                                  1        2  \\\n",
            "0    Crop :              Select  Garlic  Onion  Potato  Tomato   Year :   \n",
            "1  Market :  All  ABOHAR(PB)  AGRA(UP)  AHMEDABAD(GUJ)  AHM...  Month :   \n",
            "2       NaN                                                NaN      NaN   \n",
            "\n",
            "                                                   3  \n",
            "0  All  2022  2021  2020  2019  2018  2017  2016 ...  \n",
            "1  All  January  February  March  April  May  Jun...  \n",
            "2                                                NaN  ,                                                 0\n",
            "0  DATE WISE MARKET ARRIVALS AND PRICES FOR ONION,              Date     Market  Arrival(q)  Price Minimum (Rs/q)  \\\n",
            "0     01/Jan/2004  BANGALORE        6340                  1000   \n",
            "1     02/Jan/2004  BANGALORE         499                   440   \n",
            "2     03/Jan/2004  BANGALORE        9957                  1000   \n",
            "3     05/Jan/2004  BANGALORE       11937                  1000   \n",
            "4     06/Jan/2004  BANGALORE        9613                  1000   \n",
            "...           ...        ...         ...                   ...   \n",
            "1620  03/Mar/2010  BANGALORE        9169                   400   \n",
            "1621  04/Mar/2010  BANGALORE        8345                   250   \n",
            "1622  05/Mar/2010  BANGALORE       11448                   400   \n",
            "1623  06/Mar/2010  BANGALORE       13098                   500   \n",
            "1624  08/Mar/2010  BANGALORE       21672                   500   \n",
            "\n",
            "      Price Maximum (Rs/q)  Modal Price (Rs/q)  \n",
            "0                   1100.0              1050.0  \n",
            "1                    540.0               490.0  \n",
            "2                   1100.0              1050.0  \n",
            "3                   1100.0              1050.0  \n",
            "4                   1100.0              1050.0  \n",
            "...                    ...                 ...  \n",
            "1620                1000.0               700.0  \n",
            "1621                1100.0               700.0  \n",
            "1622                1100.0               750.0  \n",
            "1623                1100.0               900.0  \n",
            "1624                   NaN                 NaN  \n",
            "\n",
            "[1625 rows x 6 columns]]\n"
          ]
        }
      ]
    },
    {
      "cell_type": "code",
      "source": [
        "import pandas as pd\n",
        "df=pd.read_html(\"/DailyWiseMarketArrivals.html\")[-1]\n",
        "print(df)"
      ],
      "metadata": {
        "colab": {
          "base_uri": "https://localhost:8080/"
        },
        "id": "cXcdLdDpd-XO",
        "outputId": "ede1c670-bcf2-4fdc-bd72-329f02dad7b1"
      },
      "execution_count": 25,
      "outputs": [
        {
          "output_type": "stream",
          "name": "stdout",
          "text": [
            "             Date     Market  Arrival(q)  Price Minimum (Rs/q)  \\\n",
            "0     01/Jan/2004  BANGALORE        6340                  1000   \n",
            "1     02/Jan/2004  BANGALORE         499                   440   \n",
            "2     03/Jan/2004  BANGALORE        9957                  1000   \n",
            "3     05/Jan/2004  BANGALORE       11937                  1000   \n",
            "4     06/Jan/2004  BANGALORE        9613                  1000   \n",
            "...           ...        ...         ...                   ...   \n",
            "1620  03/Mar/2010  BANGALORE        9169                   400   \n",
            "1621  04/Mar/2010  BANGALORE        8345                   250   \n",
            "1622  05/Mar/2010  BANGALORE       11448                   400   \n",
            "1623  06/Mar/2010  BANGALORE       13098                   500   \n",
            "1624  08/Mar/2010  BANGALORE       21672                   500   \n",
            "\n",
            "      Price Maximum (Rs/q)  Modal Price (Rs/q)  \n",
            "0                   1100.0              1050.0  \n",
            "1                    540.0               490.0  \n",
            "2                   1100.0              1050.0  \n",
            "3                   1100.0              1050.0  \n",
            "4                   1100.0              1050.0  \n",
            "...                    ...                 ...  \n",
            "1620                1000.0               700.0  \n",
            "1621                1100.0               700.0  \n",
            "1622                1100.0               750.0  \n",
            "1623                1100.0               900.0  \n",
            "1624                   NaN                 NaN  \n",
            "\n",
            "[1625 rows x 6 columns]\n"
          ]
        }
      ]
    },
    {
      "cell_type": "code",
      "source": [
        "df.info()\n",
        "df.isnull().sum()"
      ],
      "metadata": {
        "colab": {
          "base_uri": "https://localhost:8080/"
        },
        "id": "DG6_mwaKeHXU",
        "outputId": "febd4fea-b4be-439d-961a-e99d01634d0d"
      },
      "execution_count": 26,
      "outputs": [
        {
          "output_type": "stream",
          "name": "stdout",
          "text": [
            "<class 'pandas.core.frame.DataFrame'>\n",
            "RangeIndex: 1625 entries, 0 to 1624\n",
            "Data columns (total 6 columns):\n",
            " #   Column                Non-Null Count  Dtype  \n",
            "---  ------                --------------  -----  \n",
            " 0   Date                  1625 non-null   object \n",
            " 1   Market                1625 non-null   object \n",
            " 2   Arrival(q)            1625 non-null   int64  \n",
            " 3   Price Minimum (Rs/q)  1625 non-null   int64  \n",
            " 4   Price Maximum (Rs/q)  1624 non-null   float64\n",
            " 5   Modal Price (Rs/q)    1624 non-null   float64\n",
            "dtypes: float64(2), int64(2), object(2)\n",
            "memory usage: 76.3+ KB\n"
          ]
        },
        {
          "output_type": "execute_result",
          "data": {
            "text/plain": [
              "Date                    0\n",
              "Market                  0\n",
              "Arrival(q)              0\n",
              "Price Minimum (Rs/q)    0\n",
              "Price Maximum (Rs/q)    1\n",
              "Modal Price (Rs/q)      1\n",
              "dtype: int64"
            ]
          },
          "metadata": {},
          "execution_count": 26
        }
      ]
    },
    {
      "cell_type": "code",
      "source": [
        "df_new=df[['Date','Modal Price (Rs/q)']]\n",
        "print(df_new)\n",
        "df_new=df_new.dropna()  #dropping entire null row\n"
      ],
      "metadata": {
        "colab": {
          "base_uri": "https://localhost:8080/"
        },
        "id": "JniDcIUkeMTZ",
        "outputId": "5e68123d-3669-4ddd-dfe4-a94fa5d5c2c1"
      },
      "execution_count": 27,
      "outputs": [
        {
          "output_type": "stream",
          "name": "stdout",
          "text": [
            "             Date  Modal Price (Rs/q)\n",
            "0     01/Jan/2004              1050.0\n",
            "1     02/Jan/2004               490.0\n",
            "2     03/Jan/2004              1050.0\n",
            "3     05/Jan/2004              1050.0\n",
            "4     06/Jan/2004              1050.0\n",
            "...           ...                 ...\n",
            "1620  03/Mar/2010               700.0\n",
            "1621  04/Mar/2010               700.0\n",
            "1622  05/Mar/2010               750.0\n",
            "1623  06/Mar/2010               900.0\n",
            "1624  08/Mar/2010                 NaN\n",
            "\n",
            "[1625 rows x 2 columns]\n"
          ]
        }
      ]
    },
    {
      "cell_type": "code",
      "source": [
        "#renaming the rows and columns\n",
        "df_new.rename(columns={'Date':'ds','Modal Price (Rs/q)':'y'},inplace = True)\n",
        "print(df_new)\n",
        "df_new.info()"
      ],
      "metadata": {
        "colab": {
          "base_uri": "https://localhost:8080/"
        },
        "id": "_3Ej-n-seTMm",
        "outputId": "951cf2ce-b3a5-4638-dce8-a147e2c2cd51"
      },
      "execution_count": 28,
      "outputs": [
        {
          "output_type": "stream",
          "name": "stdout",
          "text": [
            "               ds       y\n",
            "0     01/Jan/2004  1050.0\n",
            "1     02/Jan/2004   490.0\n",
            "2     03/Jan/2004  1050.0\n",
            "3     05/Jan/2004  1050.0\n",
            "4     06/Jan/2004  1050.0\n",
            "...           ...     ...\n",
            "1619  02/Mar/2010   700.0\n",
            "1620  03/Mar/2010   700.0\n",
            "1621  04/Mar/2010   700.0\n",
            "1622  05/Mar/2010   750.0\n",
            "1623  06/Mar/2010   900.0\n",
            "\n",
            "[1624 rows x 2 columns]\n",
            "<class 'pandas.core.frame.DataFrame'>\n",
            "Int64Index: 1624 entries, 0 to 1623\n",
            "Data columns (total 2 columns):\n",
            " #   Column  Non-Null Count  Dtype  \n",
            "---  ------  --------------  -----  \n",
            " 0   ds      1624 non-null   object \n",
            " 1   y       1624 non-null   float64\n",
            "dtypes: float64(1), object(1)\n",
            "memory usage: 38.1+ KB\n"
          ]
        },
        {
          "output_type": "stream",
          "name": "stderr",
          "text": [
            "/usr/local/lib/python3.7/dist-packages/pandas/core/frame.py:5047: SettingWithCopyWarning: \n",
            "A value is trying to be set on a copy of a slice from a DataFrame\n",
            "\n",
            "See the caveats in the documentation: https://pandas.pydata.org/pandas-docs/stable/user_guide/indexing.html#returning-a-view-versus-a-copy\n",
            "  errors=errors,\n"
          ]
        }
      ]
    },
    {
      "cell_type": "code",
      "source": [
        "#changing the datatype\n",
        "df_new['ds']=pd.to_datetime(df_new['ds'])\n",
        "print(df_new)\n",
        "df_new['y']=df_new['y'].astype(int)\n",
        "df_new.info()"
      ],
      "metadata": {
        "colab": {
          "base_uri": "https://localhost:8080/"
        },
        "id": "TbAAc7FYeVFm",
        "outputId": "5330971e-57fc-4ca2-bab5-5e44591e2878"
      },
      "execution_count": 29,
      "outputs": [
        {
          "output_type": "stream",
          "name": "stdout",
          "text": [
            "             ds       y\n",
            "0    2004-01-01  1050.0\n",
            "1    2004-01-02   490.0\n",
            "2    2004-01-03  1050.0\n",
            "3    2004-01-05  1050.0\n",
            "4    2004-01-06  1050.0\n",
            "...         ...     ...\n",
            "1619 2010-03-02   700.0\n",
            "1620 2010-03-03   700.0\n",
            "1621 2010-03-04   700.0\n",
            "1622 2010-03-05   750.0\n",
            "1623 2010-03-06   900.0\n",
            "\n",
            "[1624 rows x 2 columns]\n",
            "<class 'pandas.core.frame.DataFrame'>\n",
            "Int64Index: 1624 entries, 0 to 1623\n",
            "Data columns (total 2 columns):\n",
            " #   Column  Non-Null Count  Dtype         \n",
            "---  ------  --------------  -----         \n",
            " 0   ds      1624 non-null   datetime64[ns]\n",
            " 1   y       1624 non-null   int64         \n",
            "dtypes: datetime64[ns](1), int64(1)\n",
            "memory usage: 38.1 KB\n"
          ]
        }
      ]
    },
    {
      "cell_type": "code",
      "source": [
        "import matplotlib.pyplot as plt\n",
        "plt.scatter(df_new['ds'],df_new['y'])\n",
        "plt.figure(figsize=(20,9))\n",
        "plt.show()"
      ],
      "metadata": {
        "colab": {
          "base_uri": "https://localhost:8080/",
          "height": 282
        },
        "id": "46XUHwxgeXXA",
        "outputId": "a7aa8c47-01da-40c5-8d44-32bd9d7efa97"
      },
      "execution_count": 32,
      "outputs": [
        {
          "output_type": "display_data",
          "data": {
            "text/plain": [
              "<Figure size 432x288 with 1 Axes>"
            ],
            "image/png": "[encoded data removed]"
          },
          "metadata": {
            "needs_background": "light"
          }
        },
        {
          "output_type": "display_data",
          "data": {
            "text/plain": [
              "<Figure size 1440x648 with 0 Axes>"
            ]
          },
          "metadata": {}
        }
      ]
    },
    {
      "cell_type": "code",
      "source": [
        "#outliers in graph are replaced with nan\n",
        "import numpy as np\n",
        "df_new['y']=np.where(df_new['y']>5000,np.nan,df_new['y'])\n",
        "print(df_new)\n",
        "df_new.isnull().sum()"
      ],
      "metadata": {
        "colab": {
          "base_uri": "https://localhost:8080/"
        },
        "id": "Mh5Gjz-GfHBe",
        "outputId": "ca38646f-66d8-48fb-d2fb-ce3d7d482f76"
      },
      "execution_count": 33,
      "outputs": [
        {
          "output_type": "stream",
          "name": "stdout",
          "text": [
            "             ds       y\n",
            "0    2004-01-01  1050.0\n",
            "1    2004-01-02   490.0\n",
            "2    2004-01-03  1050.0\n",
            "3    2004-01-05  1050.0\n",
            "4    2004-01-06  1050.0\n",
            "...         ...     ...\n",
            "1619 2010-03-02   700.0\n",
            "1620 2010-03-03   700.0\n",
            "1621 2010-03-04   700.0\n",
            "1622 2010-03-05   750.0\n",
            "1623 2010-03-06   900.0\n",
            "\n",
            "[1624 rows x 2 columns]\n"
          ]
        },
        {
          "output_type": "execute_result",
          "data": {
            "text/plain": [
              "ds    0\n",
              "y     0\n",
              "dtype: int64"
            ]
          },
          "metadata": {},
          "execution_count": 33
        }
      ]
    },
    {
      "cell_type": "code",
      "source": [
        "import matplotlib.pyplot as plt\n",
        "plt.scatter(df_new['ds'],df_new['y'])\n",
        "plt.figure(figsize=(20,15))\n",
        "plt.show()"
      ],
      "metadata": {
        "colab": {
          "base_uri": "https://localhost:8080/",
          "height": 282
        },
        "id": "diVTpX24fMxJ",
        "outputId": "5d2694ce-2303-4edc-97f2-ee6891fa09a8"
      },
      "execution_count": 35,
      "outputs": [
        {
          "output_type": "display_data",
          "data": {
            "text/plain": [
              "<Figure size 432x288 with 1 Axes>"
            ],
            "image/png": "[encoded data removed]"
          },
          "metadata": {
            "needs_background": "light"
          }
        },
        {
          "output_type": "display_data",
          "data": {
            "text/plain": [
              "<Figure size 1440x1080 with 0 Axes>"
            ]
          },
          "metadata": {}
        }
      ]
    },
    {
      "cell_type": "code",
      "source": [
        "#forecasting(fbprophet)"
      ],
      "metadata": {
        "id": "lokYciwNfO61"
      },
      "execution_count": 36,
      "outputs": []
    },
    {
      "cell_type": "code",
      "source": [
        "import fbprophet\n",
        "op=fbprophet.Prophet()\n",
        "op.fit(df_new)"
      ],
      "metadata": {
        "colab": {
          "base_uri": "https://localhost:8080/"
        },
        "id": "K9MNw04CfV23",
        "outputId": "4ae1dcf5-1c35-4e7a-bb0a-5d34c6a4a49b"
      },
      "execution_count": 38,
      "outputs": [
        {
          "output_type": "stream",
          "name": "stderr",
          "text": [
            "INFO:fbprophet:Disabling daily seasonality. Run prophet with daily_seasonality=True to override this.\n"
          ]
        },
        {
          "output_type": "execute_result",
          "data": {
            "text/plain": [
              "<fbprophet.forecaster.Prophet at 0x7fa3dc869a90>"
            ]
          },
          "metadata": {},
          "execution_count": 38
        }
      ]
    },
    {
      "cell_type": "code",
      "source": [
        ""
      ],
      "metadata": {
        "id": "rEoKr7DSfjX9"
      },
      "execution_count": null,
      "outputs": []
    }
  ]
}