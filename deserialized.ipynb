{
 "cells": [
  {
   "cell_type": "code",
   "execution_count": 4,
   "metadata": {},
   "outputs": [],
   "source": [
    "#deserialization (dreating the file)\n",
    "#reloading the model back\n",
    "import pickle\n",
    "reload_model=pickle.load(open('simple_linear.pkl','rb'))   #rb for read mode read byte"
   ]
  },
  {
   "cell_type": "code",
   "execution_count": 5,
   "metadata": {},
   "outputs": [
    {
     "data": {
      "text/plain": [
       "array([96666.91760958])"
      ]
     },
     "execution_count": 5,
     "metadata": {},
     "output_type": "execute_result"
    }
   ],
   "source": [
    "reload_model.predict([[7.5]])"
   ]
  },
  {
   "cell_type": "code",
   "execution_count": 6,
   "metadata": {},
   "outputs": [
    {
     "data": {
      "text/plain": [
       "array([11667.75250914])"
      ]
     },
     "execution_count": 6,
     "metadata": {},
     "output_type": "execute_result"
    }
   ],
   "source": [
    "import pickle\n",
    "reload_multi_model=pickle.load(open('multi_lin_regr.pkl','rb'))\n",
    "reload_multi_model.predict([[99.8,176.6,66.2,54.3,2337,109,3.19,3.40,10.0,102,5500,24,30]])"
   ]
  },
  {
   "cell_type": "code",
   "execution_count": 7,
   "metadata": {},
   "outputs": [
    {
     "ename": "NameError",
     "evalue": "name 'df1' is not defined",
     "output_type": "error",
     "traceback": [
      "\u001b[1;31m---------------------------------------------------------------------------\u001b[0m",
      "\u001b[1;31mNameError\u001b[0m                                 Traceback (most recent call last)",
      "\u001b[1;32md:\\PROGRAMMING\\LEARNING-REFERENCES\\deserialized.ipynb Cell 4'\u001b[0m in \u001b[0;36m<cell line: 2>\u001b[1;34m()\u001b[0m\n\u001b[0;32m      <a href='vscode-notebook-cell:/d%3A/PROGRAMMING/LEARNING-REFERENCES/deserialized.ipynb#ch0000003?line=0'>1</a>\u001b[0m \u001b[39mimport\u001b[39;00m \u001b[39mseaborn\u001b[39;00m\n\u001b[1;32m----> <a href='vscode-notebook-cell:/d%3A/PROGRAMMING/LEARNING-REFERENCES/deserialized.ipynb#ch0000003?line=1'>2</a>\u001b[0m seaborn\u001b[39m.\u001b[39mregplot(x\u001b[39m=\u001b[39m\u001b[39m'\u001b[39m\u001b[39mACTUAL\u001b[39m\u001b[39m'\u001b[39m,y\u001b[39m=\u001b[39m\u001b[39m'\u001b[39m\u001b[39mPREDICTED\u001b[39m\u001b[39m'\u001b[39m,data\u001b[39m=\u001b[39mdf1)\n",
      "\u001b[1;31mNameError\u001b[0m: name 'df1' is not defined"
     ]
    }
   ],
   "source": []
  },
  {
   "cell_type": "code",
   "execution_count": null,
   "metadata": {},
   "outputs": [],
   "source": []
  }
 ],
 "metadata": {
  "interpreter": {
   "hash": "56f6729c512f1cbb8bd9c8947c451797ff2428ed7315999f66bdc7c6c15661b4"
  },
  "kernelspec": {
   "display_name": "Python 3.10.4 64-bit",
   "language": "python",
   "name": "python3"
  },
  "language_info": {
   "codemirror_mode": {
    "name": "ipython",
    "version": 3
   },
   "file_extension": ".py",
   "mimetype": "text/x-python",
   "name": "python",
   "nbconvert_exporter": "python",
   "pygments_lexer": "ipython3",
   "version": "3.10.4"
  },
  "orig_nbformat": 4
 },
 "nbformat": 4,
 "nbformat_minor": 2
}
