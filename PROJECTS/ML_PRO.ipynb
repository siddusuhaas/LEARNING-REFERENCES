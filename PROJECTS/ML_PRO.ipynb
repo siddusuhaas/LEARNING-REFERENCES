{
 "cells": [
  {
   "cell_type": "code",
   "execution_count": 4,
   "metadata": {},
   "outputs": [
    {
     "name": "stdout",
     "output_type": "stream",
     "text": [
      "      Unnamed: 0                                              title  \\\n",
      "0           8476                       You Can Smell Hillary’s Fear   \n",
      "1          10294  Watch The Exact Moment Paul Ryan Committed Pol...   \n",
      "2           3608        Kerry to go to Paris in gesture of sympathy   \n",
      "3          10142  Bernie supporters on Twitter erupt in anger ag...   \n",
      "4            875   The Battle of New York: Why This Primary Matters   \n",
      "...          ...                                                ...   \n",
      "6330        4490  State Department says it can't find emails fro...   \n",
      "6331        8062  The ‘P’ in PBS Should Stand for ‘Plutocratic’ ...   \n",
      "6332        8622  Anti-Trump Protesters Are Tools of the Oligarc...   \n",
      "6333        4021  In Ethiopia, Obama seeks progress on peace, se...   \n",
      "6334        4330  Jeb Bush Is Suddenly Attacking Trump. Here's W...   \n",
      "\n",
      "                                                   text label  \n",
      "0     Daniel Greenfield, a Shillman Journalism Fello...  FAKE  \n",
      "1     Google Pinterest Digg Linkedin Reddit Stumbleu...  FAKE  \n",
      "2     U.S. Secretary of State John F. Kerry said Mon...  REAL  \n",
      "3     — Kaydee King (@KaydeeKing) November 9, 2016 T...  FAKE  \n",
      "4     It's primary day in New York and front-runners...  REAL  \n",
      "...                                                 ...   ...  \n",
      "6330  The State Department told the Republican Natio...  REAL  \n",
      "6331  The ‘P’ in PBS Should Stand for ‘Plutocratic’ ...  FAKE  \n",
      "6332   Anti-Trump Protesters Are Tools of the Oligar...  FAKE  \n",
      "6333  ADDIS ABABA, Ethiopia —President Obama convene...  REAL  \n",
      "6334  Jeb Bush Is Suddenly Attacking Trump. Here's W...  REAL  \n",
      "\n",
      "[6335 rows x 4 columns]\n"
     ]
    }
   ],
   "source": [
    "import pandas as pd\n",
    "df =pd.read_csv(\"news.csv\")\n",
    "print(df)"
   ]
  },
  {
   "cell_type": "code",
   "execution_count": 5,
   "metadata": {},
   "outputs": [
    {
     "name": "stdout",
     "output_type": "stream",
     "text": [
      "<class 'pandas.core.frame.DataFrame'>\n",
      "RangeIndex: 6335 entries, 0 to 6334\n",
      "Data columns (total 4 columns):\n",
      " #   Column      Non-Null Count  Dtype \n",
      "---  ------      --------------  ----- \n",
      " 0   Unnamed: 0  6335 non-null   int64 \n",
      " 1   title       6335 non-null   object\n",
      " 2   text        6335 non-null   object\n",
      " 3   label       6335 non-null   object\n",
      "dtypes: int64(1), object(3)\n",
      "memory usage: 198.1+ KB\n"
     ]
    }
   ],
   "source": [
    "df.info()"
   ]
  },
  {
   "cell_type": "code",
   "execution_count": 52,
   "metadata": {},
   "outputs": [],
   "source": [
    "x=df['text'].values\n",
    "y=df['label'].values"
   ]
  },
  {
   "cell_type": "code",
   "execution_count": 7,
   "metadata": {},
   "outputs": [
    {
     "data": {
      "text/html": [
       "<div>\n",
       "<style scoped>\n",
       "    .dataframe tbody tr th:only-of-type {\n",
       "        vertical-align: middle;\n",
       "    }\n",
       "\n",
       "    .dataframe tbody tr th {\n",
       "        vertical-align: top;\n",
       "    }\n",
       "\n",
       "    .dataframe thead th {\n",
       "        text-align: right;\n",
       "    }\n",
       "</style>\n",
       "<table border=\"1\" class=\"dataframe\">\n",
       "  <thead>\n",
       "    <tr style=\"text-align: right;\">\n",
       "      <th></th>\n",
       "      <th>Unnamed: 0</th>\n",
       "      <th>title</th>\n",
       "      <th>text</th>\n",
       "      <th>label</th>\n",
       "    </tr>\n",
       "  </thead>\n",
       "  <tbody>\n",
       "    <tr>\n",
       "      <th>0</th>\n",
       "      <td>8476</td>\n",
       "      <td>You Can Smell Hillary’s Fear</td>\n",
       "      <td>Daniel Greenfield, a Shillman Journalism Fello...</td>\n",
       "      <td>FAKE</td>\n",
       "    </tr>\n",
       "    <tr>\n",
       "      <th>1</th>\n",
       "      <td>10294</td>\n",
       "      <td>Watch The Exact Moment Paul Ryan Committed Pol...</td>\n",
       "      <td>Google Pinterest Digg Linkedin Reddit Stumbleu...</td>\n",
       "      <td>FAKE</td>\n",
       "    </tr>\n",
       "    <tr>\n",
       "      <th>2</th>\n",
       "      <td>3608</td>\n",
       "      <td>Kerry to go to Paris in gesture of sympathy</td>\n",
       "      <td>U.S. Secretary of State John F. Kerry said Mon...</td>\n",
       "      <td>REAL</td>\n",
       "    </tr>\n",
       "    <tr>\n",
       "      <th>3</th>\n",
       "      <td>10142</td>\n",
       "      <td>Bernie supporters on Twitter erupt in anger ag...</td>\n",
       "      <td>— Kaydee King (@KaydeeKing) November 9, 2016 T...</td>\n",
       "      <td>FAKE</td>\n",
       "    </tr>\n",
       "    <tr>\n",
       "      <th>4</th>\n",
       "      <td>875</td>\n",
       "      <td>The Battle of New York: Why This Primary Matters</td>\n",
       "      <td>It's primary day in New York and front-runners...</td>\n",
       "      <td>REAL</td>\n",
       "    </tr>\n",
       "  </tbody>\n",
       "</table>\n",
       "</div>"
      ],
      "text/plain": [
       "   Unnamed: 0                                              title  \\\n",
       "0        8476                       You Can Smell Hillary’s Fear   \n",
       "1       10294  Watch The Exact Moment Paul Ryan Committed Pol...   \n",
       "2        3608        Kerry to go to Paris in gesture of sympathy   \n",
       "3       10142  Bernie supporters on Twitter erupt in anger ag...   \n",
       "4         875   The Battle of New York: Why This Primary Matters   \n",
       "\n",
       "                                                text label  \n",
       "0  Daniel Greenfield, a Shillman Journalism Fello...  FAKE  \n",
       "1  Google Pinterest Digg Linkedin Reddit Stumbleu...  FAKE  \n",
       "2  U.S. Secretary of State John F. Kerry said Mon...  REAL  \n",
       "3  — Kaydee King (@KaydeeKing) November 9, 2016 T...  FAKE  \n",
       "4  It's primary day in New York and front-runners...  REAL  "
      ]
     },
     "execution_count": 7,
     "metadata": {},
     "output_type": "execute_result"
    }
   ],
   "source": [
    "df.head()"
   ]
  },
  {
   "cell_type": "code",
   "execution_count": 8,
   "metadata": {},
   "outputs": [],
   "source": [
    "from sklearn.model_selection import train_test_split\n",
    "x_train,x_test,y_train,y_test=train_test_split(x,y,random_state=0)"
   ]
  },
  {
   "cell_type": "code",
   "execution_count": 9,
   "metadata": {},
   "outputs": [
    {
     "data": {
      "text/plain": [
       "(4751,)"
      ]
     },
     "execution_count": 9,
     "metadata": {},
     "output_type": "execute_result"
    }
   ],
   "source": [
    "x_train.shape"
   ]
  },
  {
   "cell_type": "code",
   "execution_count": 10,
   "metadata": {},
   "outputs": [
    {
     "data": {
      "text/plain": [
       "(1584,)"
      ]
     },
     "execution_count": 10,
     "metadata": {},
     "output_type": "execute_result"
    }
   ],
   "source": [
    "x_test.shape"
   ]
  },
  {
   "cell_type": "code",
   "execution_count": 11,
   "metadata": {},
   "outputs": [],
   "source": [
    "from sklearn.feature_extraction.text import CountVectorizer\n",
    "vector=CountVectorizer(stop_words='english')\n",
    "x_train_vector=vector.fit_transform(x_train)\n",
    "x_test_vector=vector.transform(x_test)"
   ]
  },
  {
   "cell_type": "code",
   "execution_count": 12,
   "metadata": {},
   "outputs": [
    {
     "name": "stdout",
     "output_type": "stream",
     "text": [
      "  (0, 34326)\t4\n",
      "  (0, 39591)\t14\n",
      "  (0, 15881)\t1\n",
      "  (0, 47758)\t2\n",
      "  (0, 24641)\t1\n",
      "  (0, 51626)\t2\n",
      "  (0, 38694)\t2\n",
      "  (0, 47467)\t1\n",
      "  (0, 16833)\t2\n",
      "  (0, 662)\t2\n",
      "  (0, 41543)\t2\n",
      "  (0, 42906)\t1\n",
      "  (0, 24570)\t1\n",
      "  (0, 31942)\t1\n",
      "  (0, 39874)\t1\n",
      "  (0, 51661)\t1\n",
      "  (0, 30961)\t1\n",
      "  (0, 42688)\t1\n",
      "  (0, 37422)\t1\n",
      "  (0, 56307)\t1\n",
      "  (0, 9086)\t3\n",
      "  (0, 12226)\t3\n",
      "  (0, 10093)\t1\n",
      "  (0, 23096)\t1\n",
      "  (0, 43536)\t1\n",
      "  :\t:\n",
      "  (4750, 39239)\t1\n",
      "  (4750, 33332)\t1\n",
      "  (4750, 36050)\t1\n",
      "  (4750, 41404)\t1\n",
      "  (4750, 56527)\t1\n",
      "  (4750, 48202)\t1\n",
      "  (4750, 14871)\t1\n",
      "  (4750, 36049)\t1\n",
      "  (4750, 18343)\t1\n",
      "  (4750, 30986)\t1\n",
      "  (4750, 8021)\t1\n",
      "  (4750, 42728)\t1\n",
      "  (4750, 11027)\t1\n",
      "  (4750, 18656)\t1\n",
      "  (4750, 11840)\t1\n",
      "  (4750, 20154)\t1\n",
      "  (4750, 20745)\t1\n",
      "  (4750, 21909)\t1\n",
      "  (4750, 22863)\t2\n",
      "  (4750, 55364)\t1\n",
      "  (4750, 41366)\t1\n",
      "  (4750, 56938)\t2\n",
      "  (4750, 27242)\t1\n",
      "  (4750, 31989)\t1\n",
      "  (4750, 13739)\t1\n"
     ]
    }
   ],
   "source": [
    "print(x_train_vector)"
   ]
  },
  {
   "cell_type": "code",
   "execution_count": 13,
   "metadata": {},
   "outputs": [
    {
     "data": {
      "text/html": [
       "<style>#sk-container-id-1 {color: black;background-color: white;}#sk-container-id-1 pre{padding: 0;}#sk-container-id-1 div.sk-toggleable {background-color: white;}#sk-container-id-1 label.sk-toggleable__label {cursor: pointer;display: block;width: 100%;margin-bottom: 0;padding: 0.3em;box-sizing: border-box;text-align: center;}#sk-container-id-1 label.sk-toggleable__label-arrow:before {content: \"▸\";float: left;margin-right: 0.25em;color: #696969;}#sk-container-id-1 label.sk-toggleable__label-arrow:hover:before {color: black;}#sk-container-id-1 div.sk-estimator:hover label.sk-toggleable__label-arrow:before {color: black;}#sk-container-id-1 div.sk-toggleable__content {max-height: 0;max-width: 0;overflow: hidden;text-align: left;background-color: #f0f8ff;}#sk-container-id-1 div.sk-toggleable__content pre {margin: 0.2em;color: black;border-radius: 0.25em;background-color: #f0f8ff;}#sk-container-id-1 input.sk-toggleable__control:checked~div.sk-toggleable__content {max-height: 200px;max-width: 100%;overflow: auto;}#sk-container-id-1 input.sk-toggleable__control:checked~label.sk-toggleable__label-arrow:before {content: \"▾\";}#sk-container-id-1 div.sk-estimator input.sk-toggleable__control:checked~label.sk-toggleable__label {background-color: #d4ebff;}#sk-container-id-1 div.sk-label input.sk-toggleable__control:checked~label.sk-toggleable__label {background-color: #d4ebff;}#sk-container-id-1 input.sk-hidden--visually {border: 0;clip: rect(1px 1px 1px 1px);clip: rect(1px, 1px, 1px, 1px);height: 1px;margin: -1px;overflow: hidden;padding: 0;position: absolute;width: 1px;}#sk-container-id-1 div.sk-estimator {font-family: monospace;background-color: #f0f8ff;border: 1px dotted black;border-radius: 0.25em;box-sizing: border-box;margin-bottom: 0.5em;}#sk-container-id-1 div.sk-estimator:hover {background-color: #d4ebff;}#sk-container-id-1 div.sk-parallel-item::after {content: \"\";width: 100%;border-bottom: 1px solid gray;flex-grow: 1;}#sk-container-id-1 div.sk-label:hover label.sk-toggleable__label {background-color: #d4ebff;}#sk-container-id-1 div.sk-serial::before {content: \"\";position: absolute;border-left: 1px solid gray;box-sizing: border-box;top: 0;bottom: 0;left: 50%;z-index: 0;}#sk-container-id-1 div.sk-serial {display: flex;flex-direction: column;align-items: center;background-color: white;padding-right: 0.2em;padding-left: 0.2em;position: relative;}#sk-container-id-1 div.sk-item {position: relative;z-index: 1;}#sk-container-id-1 div.sk-parallel {display: flex;align-items: stretch;justify-content: center;background-color: white;position: relative;}#sk-container-id-1 div.sk-item::before, #sk-container-id-1 div.sk-parallel-item::before {content: \"\";position: absolute;border-left: 1px solid gray;box-sizing: border-box;top: 0;bottom: 0;left: 50%;z-index: -1;}#sk-container-id-1 div.sk-parallel-item {display: flex;flex-direction: column;z-index: 1;position: relative;background-color: white;}#sk-container-id-1 div.sk-parallel-item:first-child::after {align-self: flex-end;width: 50%;}#sk-container-id-1 div.sk-parallel-item:last-child::after {align-self: flex-start;width: 50%;}#sk-container-id-1 div.sk-parallel-item:only-child::after {width: 0;}#sk-container-id-1 div.sk-dashed-wrapped {border: 1px dashed gray;margin: 0 0.4em 0.5em 0.4em;box-sizing: border-box;padding-bottom: 0.4em;background-color: white;}#sk-container-id-1 div.sk-label label {font-family: monospace;font-weight: bold;display: inline-block;line-height: 1.2em;}#sk-container-id-1 div.sk-label-container {text-align: center;}#sk-container-id-1 div.sk-container {/* jupyter's `normalize.less` sets `[hidden] { display: none; }` but bootstrap.min.css set `[hidden] { display: none !important; }` so we also need the `!important` here to be able to override the default hidden behavior on the sphinx rendered scikit-learn.org. See: https://github.com/scikit-learn/scikit-learn/issues/21755 */display: inline-block !important;position: relative;}#sk-container-id-1 div.sk-text-repr-fallback {display: none;}</style><div id=\"sk-container-id-1\" class=\"sk-top-container\"><div class=\"sk-text-repr-fallback\"><pre>SVC()</pre><b>In a Jupyter environment, please rerun this cell to show the HTML representation or trust the notebook. <br />On GitHub, the HTML representation is unable to render, please try loading this page with nbviewer.org.</b></div><div class=\"sk-container\" hidden><div class=\"sk-item\"><div class=\"sk-estimator sk-toggleable\"><input class=\"sk-toggleable__control sk-hidden--visually\" id=\"sk-estimator-id-1\" type=\"checkbox\" checked><label for=\"sk-estimator-id-1\" class=\"sk-toggleable__label sk-toggleable__label-arrow\">SVC</label><div class=\"sk-toggleable__content\"><pre>SVC()</pre></div></div></div></div></div>"
      ],
      "text/plain": [
       "SVC()"
      ]
     },
     "execution_count": 13,
     "metadata": {},
     "output_type": "execute_result"
    }
   ],
   "source": [
    "#SVM MODEL 1\n",
    "from sklearn.svm import SVC\n",
    "model_svm=SVC()\n",
    "model_svm.fit(x_train_vector,y_train)"
   ]
  },
  {
   "cell_type": "code",
   "execution_count": 14,
   "metadata": {},
   "outputs": [
    {
     "name": "stdout",
     "output_type": "stream",
     "text": [
      "['REAL' 'FAKE' 'FAKE' ... 'REAL' 'FAKE' 'FAKE']\n"
     ]
    }
   ],
   "source": [
    "y_pred_svm=model_svm.predict(x_test_vector)\n",
    "print(y_pred_svm)"
   ]
  },
  {
   "cell_type": "code",
   "execution_count": 15,
   "metadata": {},
   "outputs": [
    {
     "name": "stdout",
     "output_type": "stream",
     "text": [
      "['REAL' 'FAKE' 'FAKE' ... 'REAL' 'FAKE' 'FAKE']\n"
     ]
    }
   ],
   "source": [
    "print(y_test)"
   ]
  },
  {
   "cell_type": "code",
   "execution_count": 16,
   "metadata": {},
   "outputs": [
    {
     "data": {
      "text/plain": [
       "0.8642676767676768"
      ]
     },
     "execution_count": 16,
     "metadata": {},
     "output_type": "execute_result"
    }
   ],
   "source": [
    "from sklearn.metrics import accuracy_score\n",
    "accuracy_score(y_pred_svm,y_test)"
   ]
  },
  {
   "cell_type": "code",
   "execution_count": 17,
   "metadata": {},
   "outputs": [],
   "source": [
    "#SVM WITH COUNTVECTORIZER PIPELINE      MODEL 2"
   ]
  },
  {
   "cell_type": "code",
   "execution_count": 18,
   "metadata": {},
   "outputs": [
    {
     "data": {
      "text/html": [
       "<style>#sk-container-id-2 {color: black;background-color: white;}#sk-container-id-2 pre{padding: 0;}#sk-container-id-2 div.sk-toggleable {background-color: white;}#sk-container-id-2 label.sk-toggleable__label {cursor: pointer;display: block;width: 100%;margin-bottom: 0;padding: 0.3em;box-sizing: border-box;text-align: center;}#sk-container-id-2 label.sk-toggleable__label-arrow:before {content: \"▸\";float: left;margin-right: 0.25em;color: #696969;}#sk-container-id-2 label.sk-toggleable__label-arrow:hover:before {color: black;}#sk-container-id-2 div.sk-estimator:hover label.sk-toggleable__label-arrow:before {color: black;}#sk-container-id-2 div.sk-toggleable__content {max-height: 0;max-width: 0;overflow: hidden;text-align: left;background-color: #f0f8ff;}#sk-container-id-2 div.sk-toggleable__content pre {margin: 0.2em;color: black;border-radius: 0.25em;background-color: #f0f8ff;}#sk-container-id-2 input.sk-toggleable__control:checked~div.sk-toggleable__content {max-height: 200px;max-width: 100%;overflow: auto;}#sk-container-id-2 input.sk-toggleable__control:checked~label.sk-toggleable__label-arrow:before {content: \"▾\";}#sk-container-id-2 div.sk-estimator input.sk-toggleable__control:checked~label.sk-toggleable__label {background-color: #d4ebff;}#sk-container-id-2 div.sk-label input.sk-toggleable__control:checked~label.sk-toggleable__label {background-color: #d4ebff;}#sk-container-id-2 input.sk-hidden--visually {border: 0;clip: rect(1px 1px 1px 1px);clip: rect(1px, 1px, 1px, 1px);height: 1px;margin: -1px;overflow: hidden;padding: 0;position: absolute;width: 1px;}#sk-container-id-2 div.sk-estimator {font-family: monospace;background-color: #f0f8ff;border: 1px dotted black;border-radius: 0.25em;box-sizing: border-box;margin-bottom: 0.5em;}#sk-container-id-2 div.sk-estimator:hover {background-color: #d4ebff;}#sk-container-id-2 div.sk-parallel-item::after {content: \"\";width: 100%;border-bottom: 1px solid gray;flex-grow: 1;}#sk-container-id-2 div.sk-label:hover label.sk-toggleable__label {background-color: #d4ebff;}#sk-container-id-2 div.sk-serial::before {content: \"\";position: absolute;border-left: 1px solid gray;box-sizing: border-box;top: 0;bottom: 0;left: 50%;z-index: 0;}#sk-container-id-2 div.sk-serial {display: flex;flex-direction: column;align-items: center;background-color: white;padding-right: 0.2em;padding-left: 0.2em;position: relative;}#sk-container-id-2 div.sk-item {position: relative;z-index: 1;}#sk-container-id-2 div.sk-parallel {display: flex;align-items: stretch;justify-content: center;background-color: white;position: relative;}#sk-container-id-2 div.sk-item::before, #sk-container-id-2 div.sk-parallel-item::before {content: \"\";position: absolute;border-left: 1px solid gray;box-sizing: border-box;top: 0;bottom: 0;left: 50%;z-index: -1;}#sk-container-id-2 div.sk-parallel-item {display: flex;flex-direction: column;z-index: 1;position: relative;background-color: white;}#sk-container-id-2 div.sk-parallel-item:first-child::after {align-self: flex-end;width: 50%;}#sk-container-id-2 div.sk-parallel-item:last-child::after {align-self: flex-start;width: 50%;}#sk-container-id-2 div.sk-parallel-item:only-child::after {width: 0;}#sk-container-id-2 div.sk-dashed-wrapped {border: 1px dashed gray;margin: 0 0.4em 0.5em 0.4em;box-sizing: border-box;padding-bottom: 0.4em;background-color: white;}#sk-container-id-2 div.sk-label label {font-family: monospace;font-weight: bold;display: inline-block;line-height: 1.2em;}#sk-container-id-2 div.sk-label-container {text-align: center;}#sk-container-id-2 div.sk-container {/* jupyter's `normalize.less` sets `[hidden] { display: none; }` but bootstrap.min.css set `[hidden] { display: none !important; }` so we also need the `!important` here to be able to override the default hidden behavior on the sphinx rendered scikit-learn.org. See: https://github.com/scikit-learn/scikit-learn/issues/21755 */display: inline-block !important;position: relative;}#sk-container-id-2 div.sk-text-repr-fallback {display: none;}</style><div id=\"sk-container-id-2\" class=\"sk-top-container\"><div class=\"sk-text-repr-fallback\"><pre>Pipeline(steps=[(&#x27;countvectorizer&#x27;, CountVectorizer()), (&#x27;svc&#x27;, SVC())])</pre><b>In a Jupyter environment, please rerun this cell to show the HTML representation or trust the notebook. <br />On GitHub, the HTML representation is unable to render, please try loading this page with nbviewer.org.</b></div><div class=\"sk-container\" hidden><div class=\"sk-item sk-dashed-wrapped\"><div class=\"sk-label-container\"><div class=\"sk-label sk-toggleable\"><input class=\"sk-toggleable__control sk-hidden--visually\" id=\"sk-estimator-id-2\" type=\"checkbox\" ><label for=\"sk-estimator-id-2\" class=\"sk-toggleable__label sk-toggleable__label-arrow\">Pipeline</label><div class=\"sk-toggleable__content\"><pre>Pipeline(steps=[(&#x27;countvectorizer&#x27;, CountVectorizer()), (&#x27;svc&#x27;, SVC())])</pre></div></div></div><div class=\"sk-serial\"><div class=\"sk-item\"><div class=\"sk-estimator sk-toggleable\"><input class=\"sk-toggleable__control sk-hidden--visually\" id=\"sk-estimator-id-3\" type=\"checkbox\" ><label for=\"sk-estimator-id-3\" class=\"sk-toggleable__label sk-toggleable__label-arrow\">CountVectorizer</label><div class=\"sk-toggleable__content\"><pre>CountVectorizer()</pre></div></div></div><div class=\"sk-item\"><div class=\"sk-estimator sk-toggleable\"><input class=\"sk-toggleable__control sk-hidden--visually\" id=\"sk-estimator-id-4\" type=\"checkbox\" ><label for=\"sk-estimator-id-4\" class=\"sk-toggleable__label sk-toggleable__label-arrow\">SVC</label><div class=\"sk-toggleable__content\"><pre>SVC()</pre></div></div></div></div></div></div></div>"
      ],
      "text/plain": [
       "Pipeline(steps=[('countvectorizer', CountVectorizer()), ('svc', SVC())])"
      ]
     },
     "execution_count": 18,
     "metadata": {},
     "output_type": "execute_result"
    }
   ],
   "source": [
    "from sklearn.pipeline import make_pipeline\n",
    "model_svm_pipeline=make_pipeline(CountVectorizer(),SVC())\n",
    "model_svm_pipeline.fit(x_train,y_train)\n"
   ]
  },
  {
   "cell_type": "code",
   "execution_count": 19,
   "metadata": {},
   "outputs": [
    {
     "name": "stdout",
     "output_type": "stream",
     "text": [
      "['REAL' 'FAKE' 'FAKE' ... 'REAL' 'FAKE' 'FAKE']\n"
     ]
    }
   ],
   "source": [
    "y_pred_pipeline=model_svm_pipeline.predict(x_test)\n",
    "print(y_pred_pipeline)"
   ]
  },
  {
   "cell_type": "code",
   "execution_count": 20,
   "metadata": {},
   "outputs": [
    {
     "name": "stdout",
     "output_type": "stream",
     "text": [
      "['Watch the above reports by CBN\\'s David Brody and Jenna Browder on what is at stake for the candidates.\\n\\n- David Brody\\xa0was live on Facebook before the debate\\n\\n - Jennifer Wishon will give LIVE debate analysis between 9-11 pm ET\\n\\n - Follow Jenna Browder on Twitter all night.\\n\\nNEW YORK -- It\\'s a presidential debate that can be summed up in one familiar word – huge!\\n\\nSocial media is swarming with talk of the debate. Clinton supporters are calling for meticulous fact-checking of Trump\\'s comments during the debate, while Trump supporters hound Hillary for her perceived untrustworthiness.\\xa0Despite abundant\\xa0disagreement\\xa0over who will \\xa0win the White House, everyone agrees this debate is unlike any other.\\n\\n\\n\\n Get the latest analysis and coverage\\n\\n from your trusted CBN News political team.\\n\\nThe first of three presidential debates began with a question on the economy and jobs. Both candidates answered the question with their ideas to boost the economy.\\n\\nDonald Trump says his tax plan may benefit the wealthy but it is also \"a great thing for the middle class\" because companies would invest more in building their businesses.\\n\\n \\xa0\\xa0\\n\\n He says companies want to create jobs but they often move their money overseas because \"taxes are so onerous.\"\\n\\nSecretary Clinton directed voters to her website for her economic plan. She brought up the site when Trump was hammering her on taxes and regulations. \"He said he\\'s \\'going into cut taxes big league. You\\'re going to raise taxes big league. End of story.\\'\"\\n\\n \\xa0\\xa0\\n\\n Clinton retorted that she \"kind of assumed there would be a lot of these charges and claims.\"\\n\\nMrs. Clinton accused Mr. Trump of not paying some of the people who have worked for him through the years. She said she is relieved her father, a small business man, never had to work for him. She said Trump \"stiffed\" thousands of small business owners and workers through the years.\\n\\nTrump said tens of thousands of people have worked for him and liked it. He defended his businesses saying they have been successful. He said he\\'d only not pay someone if their work was unsatisfactory.\\n\\nTrump stated at one point that Clinton didn\\'t have the stamina to be president. She suggested he was referring to her gender and reminded viewers of some of his past comments about women.\\n\\nShe also accused Trump of being easily provoked. He defended himself saying, \"I have much better judgment than she does. I have much better temperament.\"\\n\\nBoth candidates accused each other of starting rumors claiming\\xa0President Barack Obama wasn\\'t born in the United States.\\n\\nThey came to somewhat of an agreement on the subject of not making people on watch-lists and no-fly lists eligible for guns.\\n\\nThe gun debate also centered around on-going violence between police and minorities.\\n\\nTrump said America needs law and order especially in inner cities. He told viewers that blacks and Hispanics are \"living in hell because it\\'s so dangerous.\"\\n\\nBoth agreed something needed to be\\n\\nThe debate could be one of the most watched and even be among some of the highest rated programs ever.\\n\\nThe 2015 Super Bowl clocks in at No. 1 with 115 million viewers. The 1983 series finale of \"Mash\" brought in 106 million.\\n\\nOne poll estimates Monday\\'s event could rival those numbers, topping a hundred million. Regardless of the count, it will be \"must see TV.\"\\n\\n\"Win. That\\'s all I want to do is win,\" Trump said.\\n\\nBut for this \"outsider,\" winning won\\'t be the result of traditional textbook strategy. Instead, he\\'s expected to stick with what got him here: instinct and boldness.\\n\\nTrump, however, will need to pass the plausibility test -- that is, whether voters see him as a president.\\n\\nMany are evangelicals still trying to decide whether they will pull the lever for Trump or possibly sit this election out. But evangelical leader David Barton calls that the wrong approach.\\n\\n\"We have a very selfish view of what we do with voting, and I say that in the sense of that most Christians think that voting is a right. It\\'s not. It\\'s a duty,\" Barton said.\\n\\nAnd Trump\\'s been rallying the troops in the days leading up to this debate.\\n\\nIt\\'s appropriate that this first, attention-grabbing debate will be in the New York area. Both candidates feel right at home in this familiar territory.\\n\\nTrump Tower is located in Manhattan, Clinton\\'s headquarters are 20 minutes away in Brooklyn, and the debate site at Hofstra University in Hempstead is only about an hour drive.\\n\\nAs he has proven, Trump enjoys mixing it up and getting feisty at debates. But he doesn\\'t typically throw the first punch. Instead, he waits until he\\'s attacked and analysts say he\\'s one of the best counter punchers out there. So how will Clinton get ready to rumble?\\n\\n\"You have to be prepared for, like, wacky stuff that comes at you,\" she told Late night host Jimmy Kimmel. \"I am drawing on my experience from elementary school.\"\\n\\nWhile Clinton\\'s opponent may be taking a less traditional approach to preparing for the debates, she is going by the book.\\n\\nThe Democratic nominee cut back campaigning last week. Sources say she\\'s going through briefing books, rehearsing and studying clips of Trump from the Republican primary debates, taking notes of his style and what gets under his skin.\\n\\n\"I run across people, partisans and non-partisans alike; they\\'ll say, \\'why are y\\'all working so hard? I mean your girl\\'s going to be the next president.\\' Which my comment is \\'oh, contraire,\\'\" Strider said.\\n\\n\"We have a very tough race ahead of us and we have two candidates and we have two candidates\\' families that know how to win at the rodeo and it\\'s going to be a tough race for both sides and they\\'re going to go at it,\" Strider warned.\\n\\nClinton has participated in more debates than any presidential candidate in recent history. But it\\'s hard to say how much that experience will help with an unconventional outsider like Trump.\\n\\nClinton is preparing to face some uncomfortable subjects -- from her email scandal to Bill Clinton\\'s infidelity.\\n\\nA campaign insider says her team hopes to come up with a memorable one-liner that will knock Trump off his game and stick in voters\\' minds.\\n\\nRegarding Clinton, one of the big dangers to watch for is how she will react to Trump\\'s attacks. She\\'s been known to get agitated pretty quickly so keeping a calm, cool demeanor will be vitally important in this debate for the ages.'\n",
      " '— Bernie Sanders (@BernieSanders) October 27, 2016 If you don’t have the guts to run for office on your ideas @realDonaldTrump , then you shouldn’t run for office at all. \\n— Bernie Sanders (@BernieSanders) October 27, 2016 \\nSen. Sanders was correct. Elections are supposed to be contests about ideas and visions for the future. However, the Republican Party ran out of ideas decades ago and has been on a slow and steady descent into substituting beliefs for facts, and hopes for visions. \\nTrump is trying to suppress the vote because voter suppression is the only tactic that he has left that may lead him to victory. \\nIt takes guts and courage to run a presidential campaign based on ideas and principles. Donald Trump lacking in both the guts and courage departments which is why he is spending the final days of his presidential campaign trying to con and scheme his way into the Oval Office. \\nThe media will never say it, but real candidates for office don’t try to win by discouraging people from voting. The best candidates get people excited to vote and play their vital role in the democratic process. \\nBernie Sanders gets it. Donald Trump never will.'\n",
      " '\\nAs of October 29, there have been at least 141 arrests of peaceful protesters at the Standing Rock Reservation who are attempting to stop the Dakota Access Pipeline (DAPL), which poses a major threat to the drinking water of all people at Standing Rock.\\nPaid for by Energy Transfer Partners , parent company to Dakota Access LLC, the DAPL is set to be embedded in a sacred burial ground at Standing Rock. This is the same area where DAPL security used attack dogs on peaceful people to intimidate protesters. Police snipers were seen peaking out of armored vehicles, aiming directly at unarmed protesters.\\nThese water protectors have been brutalized by officers who are using the color of law to help Dakota Access LLC trample on the the 1851 treaty between the US and the Cheyenne, Sioux, Arapaho, Crow, Assiniboine, Mandan, Hidatsa, and Arikara nations.\\n\\nProtesters who were arrested had handcuffs or zipties placed fixed to their wrists, they were stuffed into cages made for dogs and over-crowded cells, and they had numbers written on their arms, many of them having been brutally assaulted, tazed or even maced. Women were strip-searched in front of male officers. According to protesters, an elderly woman who had diabetes had blood sugar level of 488, which is dangerously high, and she was given no medical attention; they merely released her to deal with whatever health complications she had completely on her own.\\nZip ties were used to bind people’s hands, and a number of protesters reported that these zip ties were tied so tightly around protester’s wrists that their hands were turning purple as a result of reduced blood circulation.\\nCars in the area were impounded. Officers had accessed the vehicles, allegedly to search them, but protesters are concerned that officers would be able to plant contraband in order to expand the charges against protesters.\\nOver the weekend, an anonymous donor gave $173,000 to bail out protesters from jail.\\nThe International Indian Treaty Council has been listening to testimony over the past two days about human rights violations at Standing Rock. Delivered by The Daily Sheeple \\nWe encourage you to share and republish our reports, analyses, breaking news and videos ( Click for details ). \\nContributed by Ryan Banister of The Daily Sheeple . '\n",
      " ...\n",
      " \"MOREHEAD, Ky. – An attorney for jailed Rowan County Clerk Kim Davis said Friday that the marriage licenses issued by her deputies to several same-sex couples are invalid.\\n\\n“They are not worth the paper they’re written on,” Mat Staver said outside\\xa0the Carter County Detention Center, where Davis is being held on a contempt charge.\\n\\nSpeaking at an afternoon news conference in Grayson, about 35 miles from the Rowan County Courthouse, Staver said:\\xa0“Our position and the position of the clerk of Rowan County is that those licenses are void.”\\n\\nThe licenses issued to same-sex couples Friday aren’t valid, Staver argued, because they were issued under the county clerk’s authority — but Davis hasn’t granted that authority.\\n\\nThe marriage forms issued Friday did not bear Davis’s name\\xa0because of her refusal to endorse them. Instead, the clerk’s\\xa0office included a space for a deputy clerk to sign his or her name.\\n\\nU.S. District Judge David L. Bunning sent Davis to jail and ordered the deputy clerks to issue licenses in her absence.\\xa0A representative for Bunning could not be reached for comment Friday.\\n\\nAs\\xa0the Lexington Herald-Leader noted,\\xa0Rowan County Attorney Cecil Watkins has previously said deputy clerks don’t need Davis’s approval to issue valid marriage licenses.\\xa0Reached at his office Friday, Watkins declined to comment.\\n\\nIn other Kentucky counties, marriage licenses are routinely signed by a deputy, even though the clerk’s name appears on the form.\\n\\n[‘He has guts': David Bunning, the same-sex marriage decision’s unlikely enforcer]\\n\\nStaver’s\\xa0remarks came more than seven hours after the opening of the Rowan County Courthouse, where Brian Mason was waiting behind a sign reading: “Marriage License Deputy.”\\n\\nJames Yates and William Smith Jr. entered the media-filled courthouse, hand-in-hand, and began the process of applying for a marriage license. Again.\\n\\nThey had been rejected five times previously, as Davis refused to issue marriage licenses to any couples since the Supreme Court declared in June that gay couples had a constitutional right to wed.\\n\\nBy 8:15 a.m., Yates and Smith had finally obtained the elusive $35 license.\\n\\nMason, the deputy clerk, congratulated the couple and shook their hands.\\n\\nAs the couple exited the courthouse, same-sex marriage supporters erupted in cheers, chanting: “Love won! Love won!”\\n\\nYates and Smith said they now had to set a wedding date. Then, they walked hand-in-hand to their car, followed by cameras and boom mikes.\\n\\nThey were later followed by Tim and Mike Long, a couple who had obtained a name change years ago. There were cheers for the pair when they walked outside, and a woman they didn’t know, who had traveled from Louisville, gave them flowers.\\n\\nApril Miller and Karen Roberts weren’t at the courthouse when it opened Friday. Miller had a morning class to teach at Morehead State; Roberts had a migraine. But Miller and Roberts, who were among the couples who filed suit after Davis denied marriage licenses, arrived later in the day, picked up their license\\xa0and told reporters about their\\xa0ceremony\\xa0plans.\\n\\n“I don’t want to be a hero — just a woman who got her marriage license,” Roberts said.\\n\\nOne day earlier, Davis was sent to jail by Bunning, who also ordered five of the six deputy clerks in the county to begin issuing marriage licenses to all couples. The deputies agreed, under oath. The exception was Kim Davis’s son, deputy clerk Nathan Davis.\\n\\nBunning, a federal judge, ordered the 49-year-old clerk to be taken into custody for refusing in the face of multiple court orders to begin issuing marriage licenses to same-sex couples. Staver said she is expected to remain in the facility until at least Tuesday.\\n\\n“I feel sorry that she’s there, but she done it to herself,” Tim Long said.\\n\\nDavis’s attorneys plan to appeal a\\xa0federal judge’s contempt order before the end the end of Friday, and pursue writ of habeas corpus to have her released from the jail. “We will not allow her to continually sit here and have her constitutional rights violated or trampled,” Staver said.\\n\\n[Kim Davis ordered to jail for refusing to issue gay marriage licenses]\\n\\nDavis,\\xa0an Apostolic Christian, has said repeatedly that she could not issue such marriage licenses because of her religious beliefs. Pressure on Davis intensified after the Supreme Court on Monday decided not to grant her a reprieve.\\n\\n“To issue a marriage license which conflicts with God’s definition of marriage, with my name affixed to the certificate, would violate my conscience,” Davis said in a statement Tuesday. “It is not a light issue for me. It is a Heaven or Hell decision.”\\n\\nShe\\xa0consigned herself to jail Thursday, sparking a fresh round of legal wrangling and political calculation in the face of the most audacious display of defiance on the issue of same-sex marriage since the Supreme Court declared in June that gay couples had a constitutional right to wed.\\n\\n“Personal opinions, including my own, are not relevant to today,” Bunning, a federal district judge, told Davis and the courtroom Thursday. “The idea of natural law superseding this court’s authority would be a dangerous precedent indeed.”\\n\\nDavis’s husband, Joe, said that his wife would remain in jail “until our governor does something.” He told reporters in Morehead on Friday that Kim Davis would not resign from her position.\\n\\n“David Bunning is a punk, a coward, and a bully — you tell David Bunning that Joe Davis said that,” he said.\\n\\nDavis stayed overnight in a cell by herself, and has been reading scriptures from the Bible, Staver said. Her attorneys spoke to reporters Friday afternoon after a meeting with Davis in which she told them “all is well,” Staver said. “Kim Davis slept well last night. She slept with a very good conscience\\xa0and she is in very good spirits.”\\n\\nStaver — the founder\\xa0and chairman of Liberty Counsel, the Christian legal organization representing Davis —\\xa0said in an earlier statement\\xa0Friday that Davis “joins a long list of people who were imprisoned for their conscience.”\\n\\n“People who today we admire, like Rev. Dr. Martin Luther King, Jr., Jan Huss, John Bunyan, Dietrich Bonhoeffer, and more,” Staver said in the statement. “Each had their own cause, but they all share the same resolve not to violate their conscience.\\n\\n“We can only hope future generations look back on this moment with disgust at what happened and admiration for a woman who may be incarcerated but whose conscience remains free.”\\n\\nShortly after Staver finished addressing the media in Grayson,\\xa0David Ermold and David Moore appeared at the Rowan County Courthouse to make yet another attempt at securing a marriage license.\\n\\nErmold and Moore have previously documented their efforts to secure a license in Rowan County, about an hour from Lexington. A video of a July attempt has more than 1,800,000 views on YouTube; another trip to the courthouse was recorded in mid-August.\\n\\nTuesday, they tried yet again.\\n\\nAfter that attempt failed, Davis emerged from a back office to explain that she would not be issuing any licenses.\\n\\nBut on Friday, with Davis in jail, Ermold and Moore tried once more, then received their license, then stepped outside and cried.\\n\\nSomashekhar, Larimer and Izadi reported from Washington. J. Freedom du Lac contributed to this report, which has been updated.\"\n",
      " 'Home › WORLD NEWS › WHAT EVERYDAY LIFE IS REALLY LIKE IN CUBA UNDER RAÚL CASTRO WHAT EVERYDAY LIFE IS REALLY LIKE IN CUBA UNDER RAÚL CASTRO 0 [10/28/16] Cuba is like going back in time. \\nIt’s old and dirty. \\nThere’s no advertising, probably because there’s nothing to sell. The only billboards are propaganda for the dictatorship, with the faces of Fidel or Raúl Castro, Che Guevara and Camilo Cienfuegos. \\nYou hear on the radio again and again “in 1958,” or “since the Revolution,” followed by news on Venezuela: ” …the monopolization of private supermarkets of the right and their allies…the international press…thanks to public policies of the Venezuelan government…famine has declined…” \\nMoney is the key factor determining how a person is treated. If you are a foreigner, things are great, given that apart from having money, the regime forces Cubans to try to “make a good impression” — though it is difficult to pretend. The government behaves as if foreigners were royalty and Cubans were commoners. The same happens with Cuban-Americans who fled the island and return to visit, because they come back with purchasing power. \\nCubans work for practically nothing. The average salary for a Cuban is US $20. A nurse earns $40 per month. A teacher earns $20 per month and a doctor earns $60 per month. \\nThere are two markets in Cuba: the Cuban peso market and the dollar market. The dollar market has decent products, while poor quality products are valued in Cuban pesos. With the salary of a Cuban, the possibilities are limited to buying products in pesos, because only foreigners can buy products in dollars. \\nUsually, when one goes to the market looking for a food item, it is not available. Sellers say they might have it tomorrow, but they rarely do. Other times, sellers do not have any money for giving change to the customers, or no packaging like napkins, plates, cups, bags, etc. \\nEach family has its own “sales control for food items” book, which indicates the amount of food that families can buy from the government. Often, they are the only things accessible and reasonably priced for a Cuban salary. \\nFruits, vegetables and meat are not part of the Cuban peso system, so not everyone gets to enjoy such things. The sales control book only includes rice, beans, sugar, coffee and pasta. Together, they still aren’t enough to form a healthy diet. Post navigation'\n",
      " 'I’ve been living in South East Asia for almost a decade now, and over that time I’ve come to have a matured perspective on living here and a fair appreciation of the pros and cons of doing so. Like most people who come here, I set off thinking I was going to live in paradise. That’s far from the reality, let me tell you!\\nLiving in South East Asia has its pros and cons, just like anywhere else. While I myself have decided to return west for a while, I’ll always have a connection to Asia and I’m sure I’ll be back many times throughout my life.\\nSo what’s the REAL story with living in Asia? Is it all its cracked up to be? What does a man have to be aware of when coming here? Let’s look at six common stereotypical ideas about living in South East Asia, and assess them in the light of reality.\\n1. Asian Women Are Kind, Gentle, And Compliant To Their Husbands So sweet! Not so fast….\\nThis is, most definitely, a myth, and if you come out here expecting to find some little house pet who does your bidding, you’ll be in for a rude awakening.\\nIt’s definitely true that Asian women, in my experience, are a lot more traditional. They give the man his place in the house, rarely question your final decisions, and do not resent housework and basic wifely duties.\\nHowever, the idea that they’ll just do whatever you tell them without question is nonsense. They’re human beings with a will of their own and you wouldn’t be the first guy to get a smack in the head from a five-foot-two broad who weighs 90 pounds if you disrespect her.\\nThe idea that Asian women are some sort of angelic alternative to Western women is also nonsense. While it’s not the norm, I’ve met several Western men who have been taken to the cleaners by their Asian wives and girlfriends. When you move here, you’re completely at her mercy and you will never have any legal rights as a citizen.\\nAsian women generally are a lot more traditional, but this stereotype that they’re some sort of perfect wife material has got to go. They’re individuals—and there are all kinds, good and bad, among them.\\nRead this guide to dating Asian women for a more complete perspective on the issue. It’s a thorny subject, and there’s a lot of misunderstanding surrounding it.\\n2. Asia Is Ridiculously Cheap \\nThis is one I’d have to lean slightly towards agreeing with.\\nMost things in Asia are a lot cheaper. Eating out for my entire family often costs less than $15, meaning I can afford to do it basically every day. My rent for a condo apartment costs less than $150 a month, although that’s mostly because I live in the sticks and am not in a major city.\\nA general rule of thumb is that outside of major cities like Bangkok, Singapore, and KL, you can divide the cost of living by three and get a rough estimate.\\nNote, this does not apply to consumer goods such as cars and electrical appliances, which are in and around the same price. It certainly does not apply to luxury goods, which are often much more expensive because of the taxes placed on them by local governments.\\nAsia is cheaper overall, but anything other than the basics costs roughly the same. Life in South East Asia CAN be cheaper, but it isn’t necessarily so—it depends on your lifestyle.\\n3. You Can Become A Citizen Of An Asian Country And Stay Forever Becoming a citizen in an Asian country is nigh on impossible. Even if you could, you probably wouldn’t want to.\\nYou can get a variety of visas like permanent residency, and each country aims to facilitate the spouses of their nationals and, especially, retirees with proven cash in the bank. However, you’ll not become a CITIZEN with all of the various rights they enjoy.\\nIt’s also worth noting: while you might get permanent residence, you’ll never be “one of them.” Even if you live here for 30 years, you will always be a foreigner and will be viewed as such by locals. This has pros and cons to it, but you’ll never quite feel at home and accepted as one of the group.\\nYou’ll get undue respect from some for being a Westerner, but forget about talking politics or leveling criticisms at the way things are done—you’ll be met with hostility and resentment for the latter.\\n4. The Weather In Asia Is 24/7 Sunshine \\nThe weather in South East Asia is generally pretty awesome, and you can live an outdoors life you’ll truly enjoy if you’re that type.\\nThe sun shines almost every day, and even when it’s overcast it’s warm, meaning you can go out and about and do anything from walk on the beach to shop in the city.\\nHowever, when the storms come, you’d better be prepared to get your ass inside. The rainfall and wind in many countries in South East Asia is truly terrifying. Just switch on any news station the next time a major storm hits the Philippines and you’ll see what it’s like.\\nThankfully, after 1.5 years of living in the Philippines , I’ve never been caught directly in a major storm, although I’ve seen the tail end of plenty of them.\\nThe weather is good when it’s good, and utterly awful when it’s bad. Check this clip out to see how bad it can get:\\n\\n5. Asia Is 100 Years Behind The West In Terms Of Development \\nThis is a stereotype that’s deeply mistaken, and whether or not it’s true depends on which country you go to.\\nTrue, countries like Laos and Bangladesh are miles behind any Western nation, but head to Singapore and you’ll be shocked by how far ahead of us they are in terms of tech and development.\\nAsia is developing at breakneck pace, and with that development comes super highways, skytrains, skyscrapers and everything else we usually associate with an advanced country. It won’t be long before many countries out here catch up and surpass the West, although it is definitely true that most of them are slightly behind for now.\\nThere’s a phenomenon called “leapfrogging” which virtually guarantees Asian countries will catch up to and surpass the West quickly. Leapfrogging is when they can skip all of the evolution and development and simply emulate modern day technology developed elsewhere—a great example is India, where they have skipped the transition from dial-up to mobie internet and gone straight from nothing to mobile.\\nIf you think this can’t be done and there are intellectual property laws to protect tech from being stolen wholesale, I salute you, but I have to laugh. There are no such laws, and even if there were, nobody would bother to enforce them.\\nOn the other hand, you still have many scenes like this outside your window when you get out of the main cities:\\n\\n6. Asians Are Extremely Family Oriented Again, this is one I lean towards agreeing with. There are exceptions to every rule, but the family unit is extremely strong in Asia, especially countries like the Philippines.\\nI don’t want to wax lyrical or speculate as to why this is. It’s enough to acknowledge it as a fact and accept that it’s the case. 90% of the Asian people I have ever met and gotten to know from Indonesia to the Philippines to Thailand are devoted to their families to the extent that we’d consider it cult-like in most Western countries.\\nI pass no judgment on this whatsoever. It can be a great thing or a bad thing, depending on your own perspective. I personally like it and think it’s something we’ve lost in many European countries, and America, too.\\nThis is an idea about Asia I agree with—the dedication to family above individuality is definitely true, and so by default if you get into a relationship with an Asian woman, be prepared for this.\\nThe family unit is the sun around which everything orbits in most Asian countries.\\nLiving In Asia Summary Sorry to disappoint you, fellas, but you won’t find paradise in South East Asia.\\nWhat you will find is a place with many opportunities, pitfalls, pros and cons, but which I do not regret living in for a single second and which has come to be a large part of my life’s story.\\nI came out for a year and stayed for almost a decade. However, I’ve decided that time is now over and it’s time to go home.\\nI’d love to hear about your experiences living or traveling in Asia. Do you find my perceptions to be accurate, or do you have a different view?\\nRead More: Why Western Men Prefer Foreign Women Over Their Own \\n\\n']\n"
     ]
    }
   ],
   "source": [
    "print(x_test)"
   ]
  },
  {
   "cell_type": "code",
   "execution_count": 21,
   "metadata": {},
   "outputs": [
    {
     "name": "stdout",
     "output_type": "stream",
     "text": [
      "['REAL' 'FAKE' 'FAKE' ... 'REAL' 'FAKE' 'FAKE']\n"
     ]
    }
   ],
   "source": [
    "print(y_test)"
   ]
  },
  {
   "cell_type": "code",
   "execution_count": 22,
   "metadata": {},
   "outputs": [
    {
     "data": {
      "text/plain": [
       "0.8383838383838383"
      ]
     },
     "execution_count": 22,
     "metadata": {},
     "output_type": "execute_result"
    }
   ],
   "source": [
    "from sklearn.metrics import accuracy_score\n",
    "accuracy_score(y_pred_pipeline,y_test)"
   ]
  },
  {
   "cell_type": "code",
   "execution_count": 23,
   "metadata": {},
   "outputs": [],
   "source": [
    "#NAIVE BAYES        MODEL 3"
   ]
  },
  {
   "cell_type": "code",
   "execution_count": 24,
   "metadata": {},
   "outputs": [
    {
     "data": {
      "text/html": [
       "<style>#sk-container-id-3 {color: black;background-color: white;}#sk-container-id-3 pre{padding: 0;}#sk-container-id-3 div.sk-toggleable {background-color: white;}#sk-container-id-3 label.sk-toggleable__label {cursor: pointer;display: block;width: 100%;margin-bottom: 0;padding: 0.3em;box-sizing: border-box;text-align: center;}#sk-container-id-3 label.sk-toggleable__label-arrow:before {content: \"▸\";float: left;margin-right: 0.25em;color: #696969;}#sk-container-id-3 label.sk-toggleable__label-arrow:hover:before {color: black;}#sk-container-id-3 div.sk-estimator:hover label.sk-toggleable__label-arrow:before {color: black;}#sk-container-id-3 div.sk-toggleable__content {max-height: 0;max-width: 0;overflow: hidden;text-align: left;background-color: #f0f8ff;}#sk-container-id-3 div.sk-toggleable__content pre {margin: 0.2em;color: black;border-radius: 0.25em;background-color: #f0f8ff;}#sk-container-id-3 input.sk-toggleable__control:checked~div.sk-toggleable__content {max-height: 200px;max-width: 100%;overflow: auto;}#sk-container-id-3 input.sk-toggleable__control:checked~label.sk-toggleable__label-arrow:before {content: \"▾\";}#sk-container-id-3 div.sk-estimator input.sk-toggleable__control:checked~label.sk-toggleable__label {background-color: #d4ebff;}#sk-container-id-3 div.sk-label input.sk-toggleable__control:checked~label.sk-toggleable__label {background-color: #d4ebff;}#sk-container-id-3 input.sk-hidden--visually {border: 0;clip: rect(1px 1px 1px 1px);clip: rect(1px, 1px, 1px, 1px);height: 1px;margin: -1px;overflow: hidden;padding: 0;position: absolute;width: 1px;}#sk-container-id-3 div.sk-estimator {font-family: monospace;background-color: #f0f8ff;border: 1px dotted black;border-radius: 0.25em;box-sizing: border-box;margin-bottom: 0.5em;}#sk-container-id-3 div.sk-estimator:hover {background-color: #d4ebff;}#sk-container-id-3 div.sk-parallel-item::after {content: \"\";width: 100%;border-bottom: 1px solid gray;flex-grow: 1;}#sk-container-id-3 div.sk-label:hover label.sk-toggleable__label {background-color: #d4ebff;}#sk-container-id-3 div.sk-serial::before {content: \"\";position: absolute;border-left: 1px solid gray;box-sizing: border-box;top: 0;bottom: 0;left: 50%;z-index: 0;}#sk-container-id-3 div.sk-serial {display: flex;flex-direction: column;align-items: center;background-color: white;padding-right: 0.2em;padding-left: 0.2em;position: relative;}#sk-container-id-3 div.sk-item {position: relative;z-index: 1;}#sk-container-id-3 div.sk-parallel {display: flex;align-items: stretch;justify-content: center;background-color: white;position: relative;}#sk-container-id-3 div.sk-item::before, #sk-container-id-3 div.sk-parallel-item::before {content: \"\";position: absolute;border-left: 1px solid gray;box-sizing: border-box;top: 0;bottom: 0;left: 50%;z-index: -1;}#sk-container-id-3 div.sk-parallel-item {display: flex;flex-direction: column;z-index: 1;position: relative;background-color: white;}#sk-container-id-3 div.sk-parallel-item:first-child::after {align-self: flex-end;width: 50%;}#sk-container-id-3 div.sk-parallel-item:last-child::after {align-self: flex-start;width: 50%;}#sk-container-id-3 div.sk-parallel-item:only-child::after {width: 0;}#sk-container-id-3 div.sk-dashed-wrapped {border: 1px dashed gray;margin: 0 0.4em 0.5em 0.4em;box-sizing: border-box;padding-bottom: 0.4em;background-color: white;}#sk-container-id-3 div.sk-label label {font-family: monospace;font-weight: bold;display: inline-block;line-height: 1.2em;}#sk-container-id-3 div.sk-label-container {text-align: center;}#sk-container-id-3 div.sk-container {/* jupyter's `normalize.less` sets `[hidden] { display: none; }` but bootstrap.min.css set `[hidden] { display: none !important; }` so we also need the `!important` here to be able to override the default hidden behavior on the sphinx rendered scikit-learn.org. See: https://github.com/scikit-learn/scikit-learn/issues/21755 */display: inline-block !important;position: relative;}#sk-container-id-3 div.sk-text-repr-fallback {display: none;}</style><div id=\"sk-container-id-3\" class=\"sk-top-container\"><div class=\"sk-text-repr-fallback\"><pre>MultinomialNB()</pre><b>In a Jupyter environment, please rerun this cell to show the HTML representation or trust the notebook. <br />On GitHub, the HTML representation is unable to render, please try loading this page with nbviewer.org.</b></div><div class=\"sk-container\" hidden><div class=\"sk-item\"><div class=\"sk-estimator sk-toggleable\"><input class=\"sk-toggleable__control sk-hidden--visually\" id=\"sk-estimator-id-5\" type=\"checkbox\" checked><label for=\"sk-estimator-id-5\" class=\"sk-toggleable__label sk-toggleable__label-arrow\">MultinomialNB</label><div class=\"sk-toggleable__content\"><pre>MultinomialNB()</pre></div></div></div></div></div>"
      ],
      "text/plain": [
       "MultinomialNB()"
      ]
     },
     "execution_count": 24,
     "metadata": {},
     "output_type": "execute_result"
    }
   ],
   "source": [
    "from sklearn.naive_bayes import MultinomialNB\n",
    "model_naive=MultinomialNB()\n",
    "model_naive.fit(x_train_vector,y_train)"
   ]
  },
  {
   "cell_type": "code",
   "execution_count": 25,
   "metadata": {},
   "outputs": [
    {
     "name": "stdout",
     "output_type": "stream",
     "text": [
      "['REAL' 'REAL' 'FAKE' ... 'REAL' 'FAKE' 'FAKE']\n"
     ]
    }
   ],
   "source": [
    "y_pred_naive=model_naive.predict(x_test_vector)\n",
    "print(y_pred_naive)"
   ]
  },
  {
   "cell_type": "code",
   "execution_count": 26,
   "metadata": {},
   "outputs": [
    {
     "name": "stdout",
     "output_type": "stream",
     "text": [
      "['REAL' 'FAKE' 'FAKE' ... 'REAL' 'FAKE' 'FAKE']\n"
     ]
    }
   ],
   "source": [
    "print(y_test)"
   ]
  },
  {
   "cell_type": "code",
   "execution_count": 27,
   "metadata": {},
   "outputs": [
    {
     "data": {
      "text/plain": [
       "0.8819444444444444"
      ]
     },
     "execution_count": 27,
     "metadata": {},
     "output_type": "execute_result"
    }
   ],
   "source": [
    "from sklearn.metrics import accuracy_score\n",
    "accuracy_score(y_pred_naive,y_test)"
   ]
  },
  {
   "cell_type": "code",
   "execution_count": 28,
   "metadata": {},
   "outputs": [],
   "source": [
    "#MNB PIPELINE       MODEL 4"
   ]
  },
  {
   "cell_type": "code",
   "execution_count": 29,
   "metadata": {},
   "outputs": [
    {
     "data": {
      "text/html": [
       "<style>#sk-container-id-4 {color: black;background-color: white;}#sk-container-id-4 pre{padding: 0;}#sk-container-id-4 div.sk-toggleable {background-color: white;}#sk-container-id-4 label.sk-toggleable__label {cursor: pointer;display: block;width: 100%;margin-bottom: 0;padding: 0.3em;box-sizing: border-box;text-align: center;}#sk-container-id-4 label.sk-toggleable__label-arrow:before {content: \"▸\";float: left;margin-right: 0.25em;color: #696969;}#sk-container-id-4 label.sk-toggleable__label-arrow:hover:before {color: black;}#sk-container-id-4 div.sk-estimator:hover label.sk-toggleable__label-arrow:before {color: black;}#sk-container-id-4 div.sk-toggleable__content {max-height: 0;max-width: 0;overflow: hidden;text-align: left;background-color: #f0f8ff;}#sk-container-id-4 div.sk-toggleable__content pre {margin: 0.2em;color: black;border-radius: 0.25em;background-color: #f0f8ff;}#sk-container-id-4 input.sk-toggleable__control:checked~div.sk-toggleable__content {max-height: 200px;max-width: 100%;overflow: auto;}#sk-container-id-4 input.sk-toggleable__control:checked~label.sk-toggleable__label-arrow:before {content: \"▾\";}#sk-container-id-4 div.sk-estimator input.sk-toggleable__control:checked~label.sk-toggleable__label {background-color: #d4ebff;}#sk-container-id-4 div.sk-label input.sk-toggleable__control:checked~label.sk-toggleable__label {background-color: #d4ebff;}#sk-container-id-4 input.sk-hidden--visually {border: 0;clip: rect(1px 1px 1px 1px);clip: rect(1px, 1px, 1px, 1px);height: 1px;margin: -1px;overflow: hidden;padding: 0;position: absolute;width: 1px;}#sk-container-id-4 div.sk-estimator {font-family: monospace;background-color: #f0f8ff;border: 1px dotted black;border-radius: 0.25em;box-sizing: border-box;margin-bottom: 0.5em;}#sk-container-id-4 div.sk-estimator:hover {background-color: #d4ebff;}#sk-container-id-4 div.sk-parallel-item::after {content: \"\";width: 100%;border-bottom: 1px solid gray;flex-grow: 1;}#sk-container-id-4 div.sk-label:hover label.sk-toggleable__label {background-color: #d4ebff;}#sk-container-id-4 div.sk-serial::before {content: \"\";position: absolute;border-left: 1px solid gray;box-sizing: border-box;top: 0;bottom: 0;left: 50%;z-index: 0;}#sk-container-id-4 div.sk-serial {display: flex;flex-direction: column;align-items: center;background-color: white;padding-right: 0.2em;padding-left: 0.2em;position: relative;}#sk-container-id-4 div.sk-item {position: relative;z-index: 1;}#sk-container-id-4 div.sk-parallel {display: flex;align-items: stretch;justify-content: center;background-color: white;position: relative;}#sk-container-id-4 div.sk-item::before, #sk-container-id-4 div.sk-parallel-item::before {content: \"\";position: absolute;border-left: 1px solid gray;box-sizing: border-box;top: 0;bottom: 0;left: 50%;z-index: -1;}#sk-container-id-4 div.sk-parallel-item {display: flex;flex-direction: column;z-index: 1;position: relative;background-color: white;}#sk-container-id-4 div.sk-parallel-item:first-child::after {align-self: flex-end;width: 50%;}#sk-container-id-4 div.sk-parallel-item:last-child::after {align-self: flex-start;width: 50%;}#sk-container-id-4 div.sk-parallel-item:only-child::after {width: 0;}#sk-container-id-4 div.sk-dashed-wrapped {border: 1px dashed gray;margin: 0 0.4em 0.5em 0.4em;box-sizing: border-box;padding-bottom: 0.4em;background-color: white;}#sk-container-id-4 div.sk-label label {font-family: monospace;font-weight: bold;display: inline-block;line-height: 1.2em;}#sk-container-id-4 div.sk-label-container {text-align: center;}#sk-container-id-4 div.sk-container {/* jupyter's `normalize.less` sets `[hidden] { display: none; }` but bootstrap.min.css set `[hidden] { display: none !important; }` so we also need the `!important` here to be able to override the default hidden behavior on the sphinx rendered scikit-learn.org. See: https://github.com/scikit-learn/scikit-learn/issues/21755 */display: inline-block !important;position: relative;}#sk-container-id-4 div.sk-text-repr-fallback {display: none;}</style><div id=\"sk-container-id-4\" class=\"sk-top-container\"><div class=\"sk-text-repr-fallback\"><pre>Pipeline(steps=[(&#x27;countvectorizer&#x27;, CountVectorizer()),\n",
       "                (&#x27;multinomialnb&#x27;, MultinomialNB())])</pre><b>In a Jupyter environment, please rerun this cell to show the HTML representation or trust the notebook. <br />On GitHub, the HTML representation is unable to render, please try loading this page with nbviewer.org.</b></div><div class=\"sk-container\" hidden><div class=\"sk-item sk-dashed-wrapped\"><div class=\"sk-label-container\"><div class=\"sk-label sk-toggleable\"><input class=\"sk-toggleable__control sk-hidden--visually\" id=\"sk-estimator-id-6\" type=\"checkbox\" ><label for=\"sk-estimator-id-6\" class=\"sk-toggleable__label sk-toggleable__label-arrow\">Pipeline</label><div class=\"sk-toggleable__content\"><pre>Pipeline(steps=[(&#x27;countvectorizer&#x27;, CountVectorizer()),\n",
       "                (&#x27;multinomialnb&#x27;, MultinomialNB())])</pre></div></div></div><div class=\"sk-serial\"><div class=\"sk-item\"><div class=\"sk-estimator sk-toggleable\"><input class=\"sk-toggleable__control sk-hidden--visually\" id=\"sk-estimator-id-7\" type=\"checkbox\" ><label for=\"sk-estimator-id-7\" class=\"sk-toggleable__label sk-toggleable__label-arrow\">CountVectorizer</label><div class=\"sk-toggleable__content\"><pre>CountVectorizer()</pre></div></div></div><div class=\"sk-item\"><div class=\"sk-estimator sk-toggleable\"><input class=\"sk-toggleable__control sk-hidden--visually\" id=\"sk-estimator-id-8\" type=\"checkbox\" ><label for=\"sk-estimator-id-8\" class=\"sk-toggleable__label sk-toggleable__label-arrow\">MultinomialNB</label><div class=\"sk-toggleable__content\"><pre>MultinomialNB()</pre></div></div></div></div></div></div></div>"
      ],
      "text/plain": [
       "Pipeline(steps=[('countvectorizer', CountVectorizer()),\n",
       "                ('multinomialnb', MultinomialNB())])"
      ]
     },
     "execution_count": 29,
     "metadata": {},
     "output_type": "execute_result"
    }
   ],
   "source": [
    "from sklearn.pipeline import make_pipeline\n",
    "model_MNB_pipeline=make_pipeline(CountVectorizer(),MultinomialNB())\n",
    "model_MNB_pipeline.fit(x_train,y_train)\n"
   ]
  },
  {
   "cell_type": "code",
   "execution_count": 30,
   "metadata": {},
   "outputs": [
    {
     "name": "stdout",
     "output_type": "stream",
     "text": [
      "['REAL' 'REAL' 'FAKE' ... 'REAL' 'FAKE' 'FAKE']\n"
     ]
    }
   ],
   "source": [
    "y_pred_pipeline2=model_MNB_pipeline.predict(x_test)\n",
    "print(y_pred_pipeline2)"
   ]
  },
  {
   "cell_type": "code",
   "execution_count": 31,
   "metadata": {},
   "outputs": [
    {
     "name": "stdout",
     "output_type": "stream",
     "text": [
      "['REAL' 'FAKE' 'FAKE' ... 'REAL' 'FAKE' 'FAKE']\n"
     ]
    }
   ],
   "source": [
    "print(y_test)"
   ]
  },
  {
   "cell_type": "code",
   "execution_count": 32,
   "metadata": {},
   "outputs": [
    {
     "data": {
      "text/plain": [
       "0.8781565656565656"
      ]
     },
     "execution_count": 32,
     "metadata": {},
     "output_type": "execute_result"
    }
   ],
   "source": [
    "from sklearn.metrics import accuracy_score\n",
    "accuracy_score(y_pred_pipeline2,y_test)"
   ]
  },
  {
   "cell_type": "code",
   "execution_count": 33,
   "metadata": {},
   "outputs": [],
   "source": [
    "# ACCURACY SCORES\n",
    "# SVM             0.8642676767676768\n",
    "# SVC_PIPELINE    0.8383838383838383\n",
    "# NAIVE           0.8819444444444444\n",
    "# MNB PIPELINE    0.8781565656565656\n"
   ]
  },
  {
   "cell_type": "code",
   "execution_count": 34,
   "metadata": {},
   "outputs": [],
   "source": [
    "#as we can see that the MODEL 3 has the best accuarcy score of 88.194%\n",
    "#so it will be used for further process"
   ]
  },
  {
   "cell_type": "code",
   "execution_count": 35,
   "metadata": {},
   "outputs": [
    {
     "data": {
      "text/plain": [
       "['Real-Fake']"
      ]
     },
     "execution_count": 35,
     "metadata": {},
     "output_type": "execute_result"
    }
   ],
   "source": [
    "#serialisation using JOBLIB\n",
    "import joblib\n",
    "joblib.dump(model_naive,'Real-Fake')"
   ]
  },
  {
   "cell_type": "code",
   "execution_count": 36,
   "metadata": {},
   "outputs": [],
   "source": [
    "import joblib\n",
    "text_model=joblib.load('Real-Fake')"
   ]
  },
  {
   "cell_type": "code",
   "execution_count": 57,
   "metadata": {},
   "outputs": [
    {
     "name": "stdout",
     "output_type": "stream",
     "text": [
      "1\n"
     ]
    }
   ],
   "source": [
    "print(x_test.ndim)"
   ]
  },
  {
   "cell_type": "code",
   "execution_count": 73,
   "metadata": {},
   "outputs": [
    {
     "data": {
      "text/plain": [
       "array([['tickets free']], dtype='<U12')"
      ]
     },
     "execution_count": 73,
     "metadata": {},
     "output_type": "execute_result"
    }
   ],
   "source": [
    "import numpy as np\n",
    "arr=np.array(\"tickets free\")\n",
    "arr.reshape(-1,1)\n"
   ]
  },
  {
   "cell_type": "code",
   "execution_count": null,
   "metadata": {},
   "outputs": [],
   "source": [
    "import joblib\n",
    "text_model="
   ]
  }
 ],
 "metadata": {
  "interpreter": {
   "hash": "56f6729c512f1cbb8bd9c8947c451797ff2428ed7315999f66bdc7c6c15661b4"
  },
  "kernelspec": {
   "display_name": "Python 3.10.4 64-bit",
   "language": "python",
   "name": "python3"
  },
  "language_info": {
   "codemirror_mode": {
    "name": "ipython",
    "version": 3
   },
   "file_extension": ".py",
   "mimetype": "text/x-python",
   "name": "python",
   "nbconvert_exporter": "python",
   "pygments_lexer": "ipython3",
   "version": "3.10.4"
  },
  "orig_nbformat": 4
 },
 "nbformat": 4,
 "nbformat_minor": 2
}
