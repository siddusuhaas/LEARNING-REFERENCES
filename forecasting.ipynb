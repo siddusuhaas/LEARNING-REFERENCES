{
 "cells": [
  {
   "cell_type": "code",
   "execution_count": 63,
   "metadata": {},
   "outputs": [
    {
     "name": "stdout",
     "output_type": "stream",
     "text": [
      "[                                      0\n",
      "0  DATE WISE MARKET ARRIVALS AND PRICES,           0                                                  1        2  \\\n",
      "0    Crop :              Select  Garlic  Onion  Potato  Tomato   Year :   \n",
      "1  Market :  All  ABOHAR(PB)  AGRA(UP)  AHMEDABAD(GUJ)  AHM...  Month :   \n",
      "2       NaN                                                NaN      NaN   \n",
      "\n",
      "                                                   3  \n",
      "0  All  2022  2021  2020  2019  2018  2017  2016 ...  \n",
      "1  All  January  February  March  April  May  Jun...  \n",
      "2                                                NaN  ,                                                 0\n",
      "0  DATE WISE MARKET ARRIVALS AND PRICES FOR ONION,              Date     Market  Arrival(q) Price Minimum (Rs/q)  \\\n",
      "0     01/Jan/2004  BANGALORE        6340                 1000   \n",
      "1     02/Jan/2004  BANGALORE         499                  440   \n",
      "2     03/Jan/2004  BANGALORE        9957                 1000   \n",
      "3     05/Jan/2004  BANGALORE       11937                 1000   \n",
      "4     06/Jan/2004  BANGALORE        9613                 1000   \n",
      "...           ...        ...         ...                  ...   \n",
      "4555  28/Mar/2022  BANGALORE       20332                 1000   \n",
      "4556  30/Mar/2022  BANGALORE       10750                 1000   \n",
      "4557  31/Mar/2022  BANGALORE       11600                 1000   \n",
      "4558  02/Apr/2022  BANGALORE       29423                 1500   \n",
      "4559          NaN      Total   105298675             728(Avg)   \n",
      "\n",
      "     Price Maximum (Rs/q) Modal Price (Rs/q)  \n",
      "0                    1100               1050  \n",
      "1                     540                490  \n",
      "2                    1100               1050  \n",
      "3                    1100               1050  \n",
      "4                    1100               1050  \n",
      "...                   ...                ...  \n",
      "4555                 1600               1300  \n",
      "4556                 1600               1500  \n",
      "4557                 1600               1300  \n",
      "4558                 2600               2050  \n",
      "4559            1528(Avg)          1208(Avg)  \n",
      "\n",
      "[4560 rows x 6 columns]]\n"
     ]
    }
   ],
   "source": [
    "#webscraping from html to python\n",
    "import pandas as pd\n",
    "df1=pd.read_html(\"D:\\PROGRAMMING\\LEARNING-REFERENCES\\DailyWiseMarketArrivals.html\")\n",
    "print(df1)"
   ]
  },
  {
   "cell_type": "code",
   "execution_count": 64,
   "metadata": {},
   "outputs": [
    {
     "name": "stdout",
     "output_type": "stream",
     "text": [
      "<class 'list'> 4\n"
     ]
    }
   ],
   "source": [
    "print(type(df1),len(df1))"
   ]
  },
  {
   "cell_type": "code",
   "execution_count": 65,
   "metadata": {},
   "outputs": [
    {
     "name": "stdout",
     "output_type": "stream",
     "text": [
      "             Date     Market  Arrival(q) Price Minimum (Rs/q)  \\\n",
      "0     01/Jan/2004  BANGALORE        6340                 1000   \n",
      "1     02/Jan/2004  BANGALORE         499                  440   \n",
      "2     03/Jan/2004  BANGALORE        9957                 1000   \n",
      "3     05/Jan/2004  BANGALORE       11937                 1000   \n",
      "4     06/Jan/2004  BANGALORE        9613                 1000   \n",
      "...           ...        ...         ...                  ...   \n",
      "4555  28/Mar/2022  BANGALORE       20332                 1000   \n",
      "4556  30/Mar/2022  BANGALORE       10750                 1000   \n",
      "4557  31/Mar/2022  BANGALORE       11600                 1000   \n",
      "4558  02/Apr/2022  BANGALORE       29423                 1500   \n",
      "4559          NaN      Total   105298675             728(Avg)   \n",
      "\n",
      "     Price Maximum (Rs/q) Modal Price (Rs/q)  \n",
      "0                    1100               1050  \n",
      "1                     540                490  \n",
      "2                    1100               1050  \n",
      "3                    1100               1050  \n",
      "4                    1100               1050  \n",
      "...                   ...                ...  \n",
      "4555                 1600               1300  \n",
      "4556                 1600               1500  \n",
      "4557                 1600               1300  \n",
      "4558                 2600               2050  \n",
      "4559            1528(Avg)          1208(Avg)  \n",
      "\n",
      "[4560 rows x 6 columns]\n"
     ]
    }
   ],
   "source": [
    "import pandas as pd\n",
    "df=pd.read_html(\"D:\\PROGRAMMING\\LEARNING-REFERENCES\\DailyWiseMarketArrivals.html\")[-1]\n",
    "print(df)"
   ]
  },
  {
   "cell_type": "code",
   "execution_count": 66,
   "metadata": {},
   "outputs": [
    {
     "data": {
      "text/plain": [
       "pandas.core.frame.DataFrame"
      ]
     },
     "execution_count": 66,
     "metadata": {},
     "output_type": "execute_result"
    }
   ],
   "source": [
    "type(df)"
   ]
  },
  {
   "cell_type": "code",
   "execution_count": 67,
   "metadata": {},
   "outputs": [
    {
     "data": {
      "text/plain": [
       "4560"
      ]
     },
     "execution_count": 67,
     "metadata": {},
     "output_type": "execute_result"
    }
   ],
   "source": [
    "len(df)"
   ]
  },
  {
   "cell_type": "code",
   "execution_count": 68,
   "metadata": {},
   "outputs": [
    {
     "name": "stdout",
     "output_type": "stream",
     "text": [
      "<class 'pandas.core.frame.DataFrame'>\n",
      "RangeIndex: 4560 entries, 0 to 4559\n",
      "Data columns (total 6 columns):\n",
      " #   Column                Non-Null Count  Dtype \n",
      "---  ------                --------------  ----- \n",
      " 0   Date                  4559 non-null   object\n",
      " 1   Market                4560 non-null   object\n",
      " 2   Arrival(q)            4560 non-null   int64 \n",
      " 3   Price Minimum (Rs/q)  4560 non-null   object\n",
      " 4   Price Maximum (Rs/q)  4560 non-null   object\n",
      " 5   Modal Price (Rs/q)    4560 non-null   object\n",
      "dtypes: int64(1), object(5)\n",
      "memory usage: 213.9+ KB\n"
     ]
    }
   ],
   "source": [
    "df.info()"
   ]
  },
  {
   "cell_type": "code",
   "execution_count": 69,
   "metadata": {},
   "outputs": [
    {
     "data": {
      "text/plain": [
       "Date                    1\n",
       "Market                  0\n",
       "Arrival(q)              0\n",
       "Price Minimum (Rs/q)    0\n",
       "Price Maximum (Rs/q)    0\n",
       "Modal Price (Rs/q)      0\n",
       "dtype: int64"
      ]
     },
     "execution_count": 69,
     "metadata": {},
     "output_type": "execute_result"
    }
   ],
   "source": [
    "df.isnull().sum()"
   ]
  },
  {
   "cell_type": "code",
   "execution_count": 70,
   "metadata": {},
   "outputs": [
    {
     "name": "stdout",
     "output_type": "stream",
     "text": [
      "             Date     Market  Arrival(q) Price Minimum (Rs/q)  \\\n",
      "0     01/Jan/2004  BANGALORE        6340                 1000   \n",
      "1     02/Jan/2004  BANGALORE         499                  440   \n",
      "2     03/Jan/2004  BANGALORE        9957                 1000   \n",
      "3     05/Jan/2004  BANGALORE       11937                 1000   \n",
      "4     06/Jan/2004  BANGALORE        9613                 1000   \n",
      "...           ...        ...         ...                  ...   \n",
      "4554  25/Mar/2022  BANGALORE       11453                 1000   \n",
      "4555  28/Mar/2022  BANGALORE       20332                 1000   \n",
      "4556  30/Mar/2022  BANGALORE       10750                 1000   \n",
      "4557  31/Mar/2022  BANGALORE       11600                 1000   \n",
      "4558  02/Apr/2022  BANGALORE       29423                 1500   \n",
      "\n",
      "     Price Maximum (Rs/q) Modal Price (Rs/q)  \n",
      "0                    1100               1050  \n",
      "1                     540                490  \n",
      "2                    1100               1050  \n",
      "3                    1100               1050  \n",
      "4                    1100               1050  \n",
      "...                   ...                ...  \n",
      "4554                 1600               1400  \n",
      "4555                 1600               1300  \n",
      "4556                 1600               1500  \n",
      "4557                 1600               1300  \n",
      "4558                 2600               2050  \n",
      "\n",
      "[4559 rows x 6 columns]\n"
     ]
    }
   ],
   "source": [
    "df=df.dropna()  #dropping entire null row\n",
    "print(df)\n",
    "# df=df.fillna(1)\n",
    "# print(df)\n",
    "# df.tail()"
   ]
  },
  {
   "cell_type": "code",
   "execution_count": 71,
   "metadata": {},
   "outputs": [],
   "source": [
    "#to save a dataframe as csv\n",
    "df.to_csv('FORECAST DATA')"
   ]
  },
  {
   "cell_type": "code",
   "execution_count": 72,
   "metadata": {},
   "outputs": [],
   "source": [
    "#usimng data of date and modal price\n"
   ]
  },
  {
   "cell_type": "code",
   "execution_count": 73,
   "metadata": {},
   "outputs": [],
   "source": [
    "#conditions for forecasting\n",
    "#only 2 columns DATATYPE-datetime64\n",
    "#price columns / output column named as yint64 or float64\n"
   ]
  },
  {
   "cell_type": "code",
   "execution_count": 74,
   "metadata": {},
   "outputs": [
    {
     "name": "stdout",
     "output_type": "stream",
     "text": [
      "             Date Modal Price (Rs/q)\n",
      "0     01/Jan/2004               1050\n",
      "1     02/Jan/2004                490\n",
      "2     03/Jan/2004               1050\n",
      "3     05/Jan/2004               1050\n",
      "4     06/Jan/2004               1050\n",
      "...           ...                ...\n",
      "4554  25/Mar/2022               1400\n",
      "4555  28/Mar/2022               1300\n",
      "4556  30/Mar/2022               1500\n",
      "4557  31/Mar/2022               1300\n",
      "4558  02/Apr/2022               2050\n",
      "\n",
      "[4559 rows x 2 columns]\n"
     ]
    }
   ],
   "source": [
    "df_new=df[['Date','Modal Price (Rs/q)']]\n",
    "print(df_new)"
   ]
  },
  {
   "cell_type": "code",
   "execution_count": 75,
   "metadata": {},
   "outputs": [
    {
     "name": "stdout",
     "output_type": "stream",
     "text": [
      "               ds     y\n",
      "0     01/Jan/2004  1050\n",
      "1     02/Jan/2004   490\n",
      "2     03/Jan/2004  1050\n",
      "3     05/Jan/2004  1050\n",
      "4     06/Jan/2004  1050\n",
      "...           ...   ...\n",
      "4554  25/Mar/2022  1400\n",
      "4555  28/Mar/2022  1300\n",
      "4556  30/Mar/2022  1500\n",
      "4557  31/Mar/2022  1300\n",
      "4558  02/Apr/2022  2050\n",
      "\n",
      "[4559 rows x 2 columns]\n",
      "<class 'pandas.core.frame.DataFrame'>\n",
      "Int64Index: 4559 entries, 0 to 4558\n",
      "Data columns (total 2 columns):\n",
      " #   Column  Non-Null Count  Dtype \n",
      "---  ------  --------------  ----- \n",
      " 0   ds      4559 non-null   object\n",
      " 1   y       4559 non-null   object\n",
      "dtypes: object(2)\n",
      "memory usage: 106.9+ KB\n"
     ]
    },
    {
     "name": "stderr",
     "output_type": "stream",
     "text": [
      "C:\\Users\\PANJULATHA\\AppData\\Local\\Temp\\ipykernel_24660\\3789695854.py:2: SettingWithCopyWarning: \n",
      "A value is trying to be set on a copy of a slice from a DataFrame\n",
      "\n",
      "See the caveats in the documentation: https://pandas.pydata.org/pandas-docs/stable/user_guide/indexing.html#returning-a-view-versus-a-copy\n",
      "  df_new.rename(columns={'Date':'ds','Modal Price (Rs/q)':'y'},inplace = True)\n"
     ]
    }
   ],
   "source": [
    "#renaming the rows and columns\n",
    "df_new.rename(columns={'Date':'ds','Modal Price (Rs/q)':'y'},inplace = True)\n",
    "print(df_new)\n",
    "df_new.info()"
   ]
  },
  {
   "cell_type": "code",
   "execution_count": 76,
   "metadata": {},
   "outputs": [
    {
     "name": "stdout",
     "output_type": "stream",
     "text": [
      "             ds     y\n",
      "0    2004-01-01  1050\n",
      "1    2004-01-02   490\n",
      "2    2004-01-03  1050\n",
      "3    2004-01-05  1050\n",
      "4    2004-01-06  1050\n",
      "...         ...   ...\n",
      "4554 2022-03-25  1400\n",
      "4555 2022-03-28  1300\n",
      "4556 2022-03-30  1500\n",
      "4557 2022-03-31  1300\n",
      "4558 2022-04-02  2050\n",
      "\n",
      "[4559 rows x 2 columns]\n",
      "<class 'pandas.core.frame.DataFrame'>\n",
      "Int64Index: 4559 entries, 0 to 4558\n",
      "Data columns (total 2 columns):\n",
      " #   Column  Non-Null Count  Dtype         \n",
      "---  ------  --------------  -----         \n",
      " 0   ds      4559 non-null   datetime64[ns]\n",
      " 1   y       4559 non-null   int32         \n",
      "dtypes: datetime64[ns](1), int32(1)\n",
      "memory usage: 89.0 KB\n"
     ]
    },
    {
     "name": "stderr",
     "output_type": "stream",
     "text": [
      "C:\\Users\\PANJULATHA\\AppData\\Local\\Temp\\ipykernel_24660\\2749110729.py:2: SettingWithCopyWarning: \n",
      "A value is trying to be set on a copy of a slice from a DataFrame.\n",
      "Try using .loc[row_indexer,col_indexer] = value instead\n",
      "\n",
      "See the caveats in the documentation: https://pandas.pydata.org/pandas-docs/stable/user_guide/indexing.html#returning-a-view-versus-a-copy\n",
      "  df_new['ds']=pd.to_datetime(df_new['ds'])\n",
      "C:\\Users\\PANJULATHA\\AppData\\Local\\Temp\\ipykernel_24660\\2749110729.py:4: SettingWithCopyWarning: \n",
      "A value is trying to be set on a copy of a slice from a DataFrame.\n",
      "Try using .loc[row_indexer,col_indexer] = value instead\n",
      "\n",
      "See the caveats in the documentation: https://pandas.pydata.org/pandas-docs/stable/user_guide/indexing.html#returning-a-view-versus-a-copy\n",
      "  df_new['y']=df_new['y'].astype(int)\n"
     ]
    }
   ],
   "source": [
    "#changing the datatype\n",
    "df_new['ds']=pd.to_datetime(df_new['ds'])\n",
    "print(df_new)\n",
    "df_new['y']=df_new['y'].astype(int)\n",
    "df_new.info()"
   ]
  },
  {
   "cell_type": "code",
   "execution_count": 86,
   "metadata": {},
   "outputs": [
    {
     "data": {
      "image/png": "[encoded data removed]",
      "text/plain": [
       "<Figure size 432x288 with 1 Axes>"
      ]
     },
     "metadata": {
      "needs_background": "light"
     },
     "output_type": "display_data"
    },
    {
     "data": {
      "text/plain": [
       "<Figure size 1440x648 with 0 Axes>"
      ]
     },
     "metadata": {},
     "output_type": "display_data"
    }
   ],
   "source": [
    "import matplotlib.pyplot as plt\n",
    "plt.scatter(df_new['ds'],df_new['y'])\n",
    "plt.figure(figsize=(20,9))\n",
    "plt.show()"
   ]
  },
  {
   "cell_type": "code",
   "execution_count": 88,
   "metadata": {},
   "outputs": [
    {
     "name": "stdout",
     "output_type": "stream",
     "text": [
      "             ds       y\n",
      "0    2004-01-01  1050.0\n",
      "1    2004-01-02   490.0\n",
      "2    2004-01-03  1050.0\n",
      "3    2004-01-05  1050.0\n",
      "4    2004-01-06  1050.0\n",
      "...         ...     ...\n",
      "4554 2022-03-25  1400.0\n",
      "4555 2022-03-28  1300.0\n",
      "4556 2022-03-30  1500.0\n",
      "4557 2022-03-31  1300.0\n",
      "4558 2022-04-02  2050.0\n",
      "\n",
      "[4559 rows x 2 columns]\n"
     ]
    },
    {
     "name": "stderr",
     "output_type": "stream",
     "text": [
      "C:\\Users\\PANJULATHA\\AppData\\Local\\Temp\\ipykernel_24660\\2156513254.py:3: SettingWithCopyWarning: \n",
      "A value is trying to be set on a copy of a slice from a DataFrame.\n",
      "Try using .loc[row_indexer,col_indexer] = value instead\n",
      "\n",
      "See the caveats in the documentation: https://pandas.pydata.org/pandas-docs/stable/user_guide/indexing.html#returning-a-view-versus-a-copy\n",
      "  df_new['y']=np.where(df_new['y']>5000,np.nan,df_new['y'])\n"
     ]
    },
    {
     "data": {
      "text/plain": [
       "ds     0\n",
       "y     34\n",
       "dtype: int64"
      ]
     },
     "execution_count": 88,
     "metadata": {},
     "output_type": "execute_result"
    }
   ],
   "source": [
    "#outliers in graph are replaced with nan\n",
    "import numpy as np\n",
    "df_new['y']=np.where(df_new['y']>5000,np.nan,df_new['y'])\n",
    "print(df_new)\n",
    "df_new.isnull().sum()"
   ]
  },
  {
   "cell_type": "code",
   "execution_count": 90,
   "metadata": {},
   "outputs": [
    {
     "data": {
      "image/png": "[encoded data removed]",
      "text/plain": [
       "<Figure size 432x288 with 1 Axes>"
      ]
     },
     "metadata": {
      "needs_background": "light"
     },
     "output_type": "display_data"
    },
    {
     "data": {
      "text/plain": [
       "<Figure size 1440x648 with 0 Axes>"
      ]
     },
     "metadata": {},
     "output_type": "display_data"
    }
   ],
   "source": [
    "import matplotlib.pyplot as plt\n",
    "plt.scatter(df_new['ds'],df_new['y'])\n",
    "plt.figure(figsize=(20,9))\n",
    "plt.show()"
   ]
  },
  {
   "cell_type": "code",
   "execution_count": 91,
   "metadata": {},
   "outputs": [],
   "source": [
    "#forecasting(fbprophet)"
   ]
  },
  {
   "cell_type": "code",
   "execution_count": 1,
   "metadata": {},
   "outputs": [
    {
     "name": "stdout",
     "output_type": "stream",
     "text": [
      "Collecting fbprophet\n",
      "  Using cached fbprophet-0.7.1.tar.gz (64 kB)\n",
      "  Preparing metadata (setup.py): started\n",
      "  Preparing metadata (setup.py): finished with status 'done'\n",
      "Collecting Cython>=0.22\n",
      "  Using cached Cython-0.29.30-py2.py3-none-any.whl (985 kB)\n",
      "Collecting cmdstanpy==0.9.5\n",
      "  Using cached cmdstanpy-0.9.5-py3-none-any.whl (37 kB)\n",
      "Collecting pystan>=2.14\n",
      "  Using cached pystan-3.4.0-py3-none-any.whl (13 kB)\n",
      "Requirement already satisfied: numpy>=1.15.4 in c:\\users\\panjulatha\\appdata\\local\\programs\\python\\python310\\lib\\site-packages (from fbprophet) (1.22.4)\n",
      "Requirement already satisfied: pandas>=1.0.4 in c:\\users\\panjulatha\\appdata\\local\\programs\\python\\python310\\lib\\site-packages (from fbprophet) (1.4.2)\n",
      "Requirement already satisfied: matplotlib>=2.0.0 in c:\\users\\panjulatha\\appdata\\local\\programs\\python\\python310\\lib\\site-packages (from fbprophet) (3.5.2)\n",
      "Collecting LunarCalendar>=0.0.9\n",
      "  Using cached LunarCalendar-0.0.9-py2.py3-none-any.whl (18 kB)\n",
      "Collecting convertdate>=2.1.2\n",
      "  Using cached convertdate-2.4.0-py3-none-any.whl (47 kB)\n",
      "Collecting holidays>=0.10.2\n",
      "  Using cached holidays-0.14.2-py3-none-any.whl (179 kB)\n",
      "Collecting setuptools-git>=1.2\n",
      "  Using cached setuptools_git-1.2-py2.py3-none-any.whl (10 kB)\n",
      "Requirement already satisfied: python-dateutil>=2.8.0 in c:\\users\\panjulatha\\appdata\\local\\programs\\python\\python310\\lib\\site-packages (from fbprophet) (2.8.2)\n",
      "Collecting tqdm>=4.36.1\n",
      "  Using cached tqdm-4.64.0-py2.py3-none-any.whl (78 kB)\n",
      "Collecting pymeeus<=1,>=0.3.13\n",
      "  Using cached PyMeeus-0.5.11.tar.gz (5.4 MB)\n",
      "  Preparing metadata (setup.py): started\n",
      "  Preparing metadata (setup.py): finished with status 'done'\n",
      "Collecting hijri-converter\n",
      "  Using cached hijri_converter-2.2.4-py3-none-any.whl (14 kB)\n",
      "Collecting korean-lunar-calendar\n",
      "  Using cached korean_lunar_calendar-0.2.1-py3-none-any.whl (8.0 kB)\n",
      "Requirement already satisfied: pytz in c:\\users\\panjulatha\\appdata\\local\\programs\\python\\python310\\lib\\site-packages (from LunarCalendar>=0.0.9->fbprophet) (2022.1)\n",
      "Collecting ephem>=3.7.5.3\n",
      "  Using cached ephem-4.1.3-cp310-cp310-win_amd64.whl (1.4 MB)\n",
      "Requirement already satisfied: pyparsing>=2.2.1 in c:\\users\\panjulatha\\appdata\\local\\programs\\python\\python310\\lib\\site-packages (from matplotlib>=2.0.0->fbprophet) (3.0.8)\n",
      "Requirement already satisfied: cycler>=0.10 in c:\\users\\panjulatha\\appdata\\local\\programs\\python\\python310\\lib\\site-packages (from matplotlib>=2.0.0->fbprophet) (0.11.0)\n",
      "Requirement already satisfied: pillow>=6.2.0 in c:\\users\\panjulatha\\appdata\\local\\programs\\python\\python310\\lib\\site-packages (from matplotlib>=2.0.0->fbprophet) (9.1.1)\n",
      "Requirement already satisfied: packaging>=20.0 in c:\\users\\panjulatha\\appdata\\local\\programs\\python\\python310\\lib\\site-packages (from matplotlib>=2.0.0->fbprophet) (21.3)\n",
      "Requirement already satisfied: kiwisolver>=1.0.1 in c:\\users\\panjulatha\\appdata\\local\\programs\\python\\python310\\lib\\site-packages (from matplotlib>=2.0.0->fbprophet) (1.4.2)\n",
      "Requirement already satisfied: fonttools>=4.22.0 in c:\\users\\panjulatha\\appdata\\local\\programs\\python\\python310\\lib\\site-packages (from matplotlib>=2.0.0->fbprophet) (4.33.3)\n",
      "Collecting pystan>=2.14\n",
      "  Using cached pystan-3.3.0-py3-none-any.whl (13 kB)\n",
      "Collecting aiohttp<4.0,>=3.6\n",
      "  Using cached aiohttp-3.8.1-cp310-cp310-win_amd64.whl (555 kB)\n",
      "Collecting clikit<0.7,>=0.6\n",
      "  Using cached clikit-0.6.2-py2.py3-none-any.whl (91 kB)\n",
      "Collecting pystan>=2.14\n",
      "  Using cached pystan-3.2.0-py3-none-any.whl (13 kB)\n",
      "  Using cached pystan-3.1.1-py3-none-any.whl (13 kB)\n",
      "  Using cached pystan-3.1.0-py3-none-any.whl (13 kB)\n",
      "  Using cached pystan-3.0.2-py3-none-any.whl (13 kB)\n",
      "  Using cached pystan-3.0.1-py3-none-any.whl (12 kB)\n",
      "  Using cached pystan-3.0.0-py3-none-any.whl (12 kB)\n",
      "  Using cached pystan-2.19.1.1.tar.gz (16.2 MB)\n",
      "  Preparing metadata (setup.py): started\n",
      "  Preparing metadata (setup.py): finished with status 'error'\n",
      "Note: you may need to restart the kernel to use updated packages.\n"
     ]
    },
    {
     "name": "stderr",
     "output_type": "stream",
     "text": [
      "  error: subprocess-exited-with-error\n",
      "  \n",
      "  × python setup.py egg_info did not run successfully.\n",
      "  │ exit code: 1\n",
      "  ╰─> [6 lines of output]\n",
      "      Traceback (most recent call last):\n",
      "        File \"<string>\", line 2, in <module>\n",
      "        File \"<pip-setuptools-caller>\", line 34, in <module>\n",
      "        File \"C:\\Users\\PANJULATHA\\AppData\\Local\\Temp\\pip-install-7mtr9_wp\\pystan_1c16cdbaa64945fd952141d7f9ecae14\\setup.py\", line 122, in <module>\n",
      "          from Cython.Build.Inline import _get_build_extension\n",
      "      ModuleNotFoundError: No module named 'Cython'\n",
      "      [end of output]\n",
      "  \n",
      "  note: This error originates from a subprocess, and is likely not a problem with pip.\n",
      "error: metadata-generation-failed\n",
      "\n",
      "× Encountered error while generating package metadata.\n",
      "╰─> See above for output.\n",
      "\n",
      "note: This is an issue with the package mentioned above, not pip.\n",
      "hint: See above for details.\n"
     ]
    }
   ],
   "source": [
    "pip install fbprophet"
   ]
  },
  {
   "cell_type": "code",
   "execution_count": null,
   "metadata": {},
   "outputs": [],
   "source": []
  }
 ],
 "metadata": {
  "interpreter": {
   "hash": "56f6729c512f1cbb8bd9c8947c451797ff2428ed7315999f66bdc7c6c15661b4"
  },
  "kernelspec": {
   "display_name": "Python 3.10.4 64-bit",
   "language": "python",
   "name": "python3"
  },
  "language_info": {
   "codemirror_mode": {
    "name": "ipython",
    "version": 3
   },
   "file_extension": ".py",
   "mimetype": "text/x-python",
   "name": "python",
   "nbconvert_exporter": "python",
   "pygments_lexer": "ipython3",
   "version": "3.10.4"
  },
  "orig_nbformat": 4
 },
 "nbformat": 4,
 "nbformat_minor": 2
}
